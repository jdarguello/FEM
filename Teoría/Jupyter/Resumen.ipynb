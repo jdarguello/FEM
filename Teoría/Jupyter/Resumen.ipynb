{
 "cells": [
  {
   "cell_type": "markdown",
   "metadata": {
    "toc-hr-collapsed": false
   },
   "source": [
    "<center><h1><strong>Resumen Teórico - FEM</strong></h1></center>\n",
    "\n",
    "<div align=\"justify\">\n",
    "    El presente documento se centra en el desarrollo de un resumen teórico del <i>Método de Elementos Finitos</i>. Diferentes software comerciales, entre ellos: Ansys, Abaqus y Comsol emplean la siguiente lógica para el desarrollo de las simulaciones numéricas.\n",
    "</div>\n",
    "\n",
    "<br>\n",
    "\n",
    "<img src=\"Images/Black_Box/Box-1.PNG\" style=\"width: 600px;\" />\n",
    "\n",
    "<center><i>Figura 1.</i> Caja negra.</center>\n",
    "\n",
    "<div align=\"justify\">\n",
    "    La <i>caja gris</i> se puede evidenciar a continuación.\n",
    "</div>\n",
    "\n",
    "<img src=\"Images/Black_Box/Box-2.PNG\" style=\"width: 700px;\" />\n",
    "\n",
    "<center><i>Figura 2.</i> Caja gris.</center>"
   ]
  },
  {
   "cell_type": "markdown",
   "metadata": {
    "toc-hr-collapsed": false
   },
   "source": [
    "## __1. Método de diferencias finitas__\n",
    "\n",
    "<div align=\"justify\">\n",
    "    Es un método numérico empleado para la solución de <i>Ecuaciones Diferenciales Ordinarias</i> (ODE, por sus siglas en inglés).\n",
    "</div>"
   ]
  },
  {
   "cell_type": "markdown",
   "metadata": {},
   "source": [
    "<h3>1.1 Diferencia finita progresiva</h3>\n",
    "\n",
    "<div align=\"justify\">\n",
    "    Dado un conjunto de puntos $\\left(x_i, y_i \\right) \\epsilon \\, \\mathbb{R} ^2 , 0 \\leq i \\leq n $, se define la diferencia progresiva de orden 1 en $y_k$, que se denota como: $\\Delta y_k$ a:\n",
    "    $$\n",
    "    \\begin{equation}\n",
    "        \\Delta y_k = y_{k+1} - y_k\n",
    "        \\tag{1}\n",
    "        \\label{DefFinP}\n",
    "    \\end{equation}\n",
    "    $$\n",
    "</div>"
   ]
  },
  {
   "cell_type": "markdown",
   "metadata": {},
   "source": [
    "### 1.2. Diferencia finita regresiva\n",
    "\n",
    "<div align=\"justify\">\n",
    "    Dado un conjunto de puntos $\\left(x_i, y_i \\right) \\epsilon \\, \\mathbb{R} ^2 , 0 \\leq i \\leq n $, se define la diferencia regresiva de orden 1 en $y_k$, que notaremos como $\\nabla y_k$, a:\n",
    "    $$\n",
    "    \\begin{equation}\n",
    "        \\nabla y_k = y_k - y_{k-1}\n",
    "        \\tag{2}\n",
    "        \\label{DifFinR}\n",
    "    \\end{equation}\n",
    "    $$\n",
    "</div>"
   ]
  },
  {
   "cell_type": "markdown",
   "metadata": {},
   "source": [
    "### 1.3. Propiedades\n",
    "\n",
    "<div align=\"justify\">\n",
    "    Existen las siguientes propiedades:\n",
    "</div>\n",
    "\n",
    "* $\\Delta \\left(y_k + y_l \\right) = \\Delta y_k + \\Delta y_l$\n",
    "* $\\Delta \\left( \\alpha y_k \\right) = \\alpha \\Delta y_k, \\alpha \\, \\varepsilon \\, \\mathbb{R}$\n",
    "* $\\Delta ^n y_k = \\Delta \\left( \\Delta ^{n-1} y_k \\right)$\n",
    "* $\\Delta ^n \\left( \\Delta ^m y_k \\right) = \\Delta ^{n+m} y_k$\n",
    "* $\\Delta ^n y_k = \\nabla ^n y_{k+n}$\n",
    "* $\\nabla ^n y_k = \\Delta ^n y_{k-n}$"
   ]
  },
  {
   "cell_type": "markdown",
   "metadata": {},
   "source": [
    "### 1.4. Diferencia de orden 2\n",
    "\n",
    "<div align = \"justify\">\n",
    "    El desarrollo se muestra a continuación (propiedades 3 y 1 con la definición de la Ecuación 1).\n",
    "    $$\n",
    "    \\begin{equation}\n",
    "        \\begin{array}{c}\n",
    "            \\Delta ^2 y_k = \\Delta \\left( \\Delta y_k \\right) = \\Delta \\left( y_{k+1} - y_k \\right) = \\Delta y_{k+1} - \\Delta y_k \\\\\n",
    "            \\rightarrow \\Delta ^2 y_k = \\left(y_{k+2} - y_{k+1} \\right) - \\left(y_{k+1} - y_k \\right) \\\\\n",
    "            \\rightarrow \\Delta ^2 y_k = y_{k+2} - 2 y_{k+1} + y_k\n",
    "            \\tag{3}\n",
    "            \\label{DifDes}\n",
    "        \\end{array}\n",
    "    \\end{equation}\n",
    "    $$\n",
    "    De igual modo para la diferencia regresiva...\n",
    "    $$\n",
    "    \\begin{equation}\n",
    "        \\nabla ^2 y_k = y_k - 2y_{k-1} + y_{k-2}\n",
    "        \\tag{4}\n",
    "        \\label{Dif2nabla}\n",
    "    \\end{equation}\n",
    "    $$\n",
    "</div>"
   ]
  },
  {
   "cell_type": "markdown",
   "metadata": {},
   "source": [
    "### 1.5. Diferencia de orden n\n",
    "\n",
    "<div align=\"justify\">\n",
    "    La relación de orden $n$ se puede apreciar en las Ecuaciones \\ref{norderdiff} y \\ref{nnabladiff}\n",
    "    $$\n",
    "    \\begin{equation}\n",
    "        \\Delta^n y_k = \\sum _{j=0} ^n \\left(-1 \\right)^j \\left(\n",
    "        \\begin{array}{c}\n",
    "            n\\\\\n",
    "            j\n",
    "        \\end{array}\n",
    "        \\right) y_{k+n-j}\n",
    "        \\tag{5}\n",
    "        \\label{norderdiff}\n",
    "    \\end{equation}\n",
    "    $$\n",
    "    $$\n",
    "    \\begin{equation}\n",
    "        \\nabla^n y_k = \\sum _{j=0} ^n \\left(-1 \\right)^j \\left(\n",
    "        \\begin{array}{c}\n",
    "            n\\\\\n",
    "            j\n",
    "        \\end{array}\n",
    "        \\right) y_{k+j}\n",
    "        \\tag{6}\n",
    "        \\label{nnabladiff}\n",
    "    \\end{equation}\n",
    "    $$\n",
    "</div>"
   ]
  },
  {
   "cell_type": "code",
   "execution_count": 1,
   "metadata": {},
   "outputs": [
    {
     "data": {
      "text/html": [
       "$\\Delta^{2}y_k =y_k-2y_{k+1}+y_{k+2}$"
      ],
      "text/plain": [
       "<IPython.core.display.HTML object>"
      ]
     },
     "metadata": {},
     "output_type": "display_data"
    },
    {
     "data": {
      "text/plain": [
       "<App.FDM.order.Desarrollo at 0x5bffcf0>"
      ]
     },
     "execution_count": 1,
     "metadata": {},
     "output_type": "execute_result"
    }
   ],
   "source": [
    "n = 2\n",
    "\n",
    "from App.FDM.order import *\n",
    "Desarrollo(n, progresiva=True)"
   ]
  }
 ],
 "metadata": {
  "kernelspec": {
   "display_name": "Python 3",
   "language": "python",
   "name": "python3"
  },
  "language_info": {
   "codemirror_mode": {
    "name": "ipython",
    "version": 3
   },
   "file_extension": ".py",
   "mimetype": "text/x-python",
   "name": "python",
   "nbconvert_exporter": "python",
   "pygments_lexer": "ipython3",
   "version": "3.7.4"
  }
 },
 "nbformat": 4,
 "nbformat_minor": 4
}
