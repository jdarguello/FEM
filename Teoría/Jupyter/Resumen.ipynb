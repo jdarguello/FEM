{
 "cells": [
  {
   "cell_type": "markdown",
   "metadata": {
    "toc-hr-collapsed": false
   },
   "source": [
    "<center><h1><strong>Resumen Teórico - FEM</strong></h1></center>\n",
    "\n",
    "<div align=\"justify\">\n",
    "    El presente documento se centra en el desarrollo de un resumen teórico del <i>Método de Elementos Finitos</i>. Diferentes software comerciales, entre ellos: Ansys, Abaqus y Comsol emplean la siguiente lógica para el desarrollo de las simulaciones numéricas.\n",
    "</div>\n",
    "\n",
    "<br>\n",
    "\n",
    "<img src=\"Images/Black_Box/Box-1.PNG\" style=\"width: 600px;\" />\n",
    "\n",
    "<center><i>Figura 1.</i> Caja negra.</center>\n",
    "\n",
    "<div align=\"justify\">\n",
    "    La <i>caja gris</i> se puede evidenciar a continuación.\n",
    "</div>\n",
    "\n",
    "<img src=\"Images/Black_Box/Box-2.PNG\" style=\"width: 700px;\" />\n",
    "\n",
    "<center><i>Figura 2.</i> Caja gris.</center>"
   ]
  },
  {
   "cell_type": "markdown",
   "metadata": {
    "toc-hr-collapsed": false
   },
   "source": [
    "## __1. Método de diferencias finitas__\n",
    "\n",
    "<div align=\"justify\">\n",
    "    Es un método numérico empleado para la solución de <i>Ecuaciones Diferenciales Ordinarias</i> (ODE, por sus siglas en inglés).\n",
    "</div>"
   ]
  },
  {
   "cell_type": "markdown",
   "metadata": {},
   "source": [
    "<h3>1.1 Diferencia finita progresiva</h3>\n",
    "\n",
    "<div align=\"justify\">\n",
    "    Dado un conjunto de puntos $\\left(x_i, y_i \\right) \\epsilon \\, \\mathbb{R} ^2 , 0 \\leq i \\leq n $, se define la diferencia progresiva de orden 1 en $y_k$, que se denota como: $\\Delta y_k$ a:\n",
    "    $$\n",
    "    \\begin{equation}\n",
    "        \\Delta y_k = y_{k+1} - y_k\n",
    "        \\tag{1}\n",
    "        \\label{DefFinP}\n",
    "    \\end{equation}\n",
    "    $$\n",
    "</div>"
   ]
  },
  {
   "cell_type": "markdown",
   "metadata": {},
   "source": [
    "### 1.2. Diferencia finita regresiva\n",
    "\n",
    "<div align=\"justify\">\n",
    "    Dado un conjunto de puntos $\\left(x_i, y_i \\right) \\epsilon \\, \\mathbb{R} ^2 , 0 \\leq i \\leq n $, se define la diferencia regresiva de orden 1 en $y_k$, que notaremos como $\\nabla y_k$, a:\n",
    "    $$\n",
    "    \\begin{equation}\n",
    "        \\nabla y_k = y_k - y_{k-1}\n",
    "        \\tag{2}\n",
    "        \\label{DifFinR}\n",
    "    \\end{equation}\n",
    "    $$\n",
    "</div>"
   ]
  },
  {
   "cell_type": "markdown",
   "metadata": {},
   "source": [
    "### 1.3. Propiedades\n",
    "\n",
    "<div align=\"justify\">\n",
    "    Existen las siguientes propiedades:\n",
    "</div>\n",
    "\n",
    "* $\\Delta \\left(y_k + y_l \\right) = \\Delta y_k + \\Delta y_l$\n",
    "* $\\Delta \\left( \\alpha y_k \\right) = \\alpha \\Delta y_k, \\alpha \\, \\varepsilon \\, \\mathbb{R}$\n",
    "* $\\Delta ^n y_k = \\Delta \\left( \\Delta ^{n-1} y_k \\right)$\n",
    "* $\\Delta ^n \\left( \\Delta ^m y_k \\right) = \\Delta ^{n+m} y_k$\n",
    "* $\\Delta ^n y_k = \\nabla ^n y_{k+n}$\n",
    "* $\\nabla ^n y_k = \\Delta ^n y_{k-n}$"
   ]
  },
  {
   "cell_type": "markdown",
   "metadata": {},
   "source": [
    "### 1.4. Diferencia de orden 2\n",
    "\n",
    "<div align = \"justify\">\n",
    "    El desarrollo se muestra a continuación (propiedades 3 y 1 con la definición de la Ecuación 1).\n",
    "    $$\n",
    "    \\begin{equation}\n",
    "        \\begin{array}{c}\n",
    "            \\Delta ^2 y_k = \\Delta \\left( \\Delta y_k \\right) = \\Delta \\left( y_{k+1} - y_k \\right) = \\Delta y_{k+1} - \\Delta y_k \\\\\n",
    "            \\rightarrow \\Delta ^2 y_k = \\left(y_{k+2} - y_{k+1} \\right) - \\left(y_{k+1} - y_k \\right) \\\\\n",
    "            \\rightarrow \\Delta ^2 y_k = y_{k+2} - 2 y_{k+1} + y_k\n",
    "            \\tag{3}\n",
    "            \\label{DifDes}\n",
    "        \\end{array}\n",
    "    \\end{equation}\n",
    "    $$\n",
    "    De igual modo para la diferencia regresiva...\n",
    "    $$\n",
    "    \\begin{equation}\n",
    "        \\nabla ^2 y_k = y_k - 2y_{k-1} + y_{k-2}\n",
    "        \\tag{4}\n",
    "        \\label{Dif2nabla}\n",
    "    \\end{equation}\n",
    "    $$\n",
    "</div>"
   ]
  },
  {
   "cell_type": "markdown",
   "metadata": {},
   "source": [
    "### 1.5. Diferencia de orden n\n",
    "\n",
    "<div align=\"justify\">\n",
    "    La relación de orden $n$ se puede apreciar en las Ecuaciones \\ref{norderdiff} y \\ref{nnabladiff}\n",
    "    $$\n",
    "    \\begin{equation}\n",
    "        \\Delta^n y_k = \\sum _{j=0} ^n \\left(-1 \\right)^j \\left(\n",
    "        \\begin{array}{c}\n",
    "            n\\\\\n",
    "            j\n",
    "        \\end{array}\n",
    "        \\right) y_{k+n-j}\n",
    "        \\tag{5}\n",
    "        \\label{norderdiff}\n",
    "    \\end{equation}\n",
    "    $$\n",
    "    $$\n",
    "    \\begin{equation}\n",
    "        \\nabla^n y_k = \\sum _{j=0} ^n \\left(-1 \\right)^j \\left(\n",
    "        \\begin{array}{c}\n",
    "            n\\\\\n",
    "            j\n",
    "        \\end{array}\n",
    "        \\right) y_{k+j}\n",
    "        \\tag{6}\n",
    "        \\label{nnabladiff}\n",
    "    \\end{equation}\n",
    "    $$\n",
    "</div>"
   ]
  },
  {
   "cell_type": "code",
   "execution_count": 4,
   "metadata": {},
   "outputs": [
    {
     "data": {
      "text/html": [
       "$\\Delta^{100}y_k =y_k-100y_{k+1}+4950y_{k+2}-161700y_{k+3}+3921225y_{k+4}-75287520y_{k+5}+1192052400y_{k+6}-16007560800y_{k+7}+186087894300y_{k+8}-1902231808400y_{k+9}+17310309456440y_{k+10}-141629804643600y_{k+11}+1050421051106700y_{k+12}-7110542499799200y_{k+13}+44186942677323600y_{k+14}-253338471349988640y_{k+15}+1345860629046814650y_{k+16}-6650134872937201800y_{k+17}+30664510802988208300y_{k+18}-132341572939212267400y_{k+19}+535983370403809682970y_{k+20}-2041841411062132125600y_{k+21}+7332066885177656269200y_{k+22}-24865270306254660391200y_{k+23}+79776075565900368755100y_{k+24}-242519269720337121015504y_{k+25}+699574816500972464467800y_{k+26}-1917353200780443050763600y_{k+27}+4998813702034726525205100y_{k+28}-12410847811948286545336800y_{k+29}+29372339821610944823963760y_{k+30}-66324638306863423796047200y_{k+31}+143012501349174257560226775y_{k+32}-294692427022540894366527900y_{k+33}+580717429720889409486981450y_{k+34}-1095067153187962886461165020y_{k+35}+1977204582144932989443770175y_{k+36}-3420029547493938143902737600y_{k+37}+5670048986634686922786117600y_{k+38}-9013924030034630492634340800y_{k+39}+13746234145802811501267369720y_{k+40}-20116440213369968050635175200y_{k+41}+28258808871162574166368460400y_{k+42}-38116532895986727945334202400y_{k+43}+49378235797073715747364762200y_{k+44}-61448471214136179596720592960y_{k+45}+73470998190814997343905056800y_{k+46}-84413487283064039501507937600y_{k+47}+93206558875049876949581681100y_{k+48}-98913082887808032681188722800y_{k+49}+100891344545564193334812497256y_{k+50}-98913082887808032681188722800y_{k+51}+93206558875049876949581681100y_{k+52}-84413487283064039501507937600y_{k+53}+73470998190814997343905056800y_{k+54}-61448471214136179596720592960y_{k+55}+49378235797073715747364762200y_{k+56}-38116532895986727945334202400y_{k+57}+28258808871162574166368460400y_{k+58}-20116440213369968050635175200y_{k+59}+13746234145802811501267369720y_{k+60}-9013924030034630492634340800y_{k+61}+5670048986634686922786117600y_{k+62}-3420029547493938143902737600y_{k+63}+1977204582144932989443770175y_{k+64}-1095067153187962886461165020y_{k+65}+580717429720889409486981450y_{k+66}-294692427022540894366527900y_{k+67}+143012501349174257560226775y_{k+68}-66324638306863423796047200y_{k+69}+29372339821610944823963760y_{k+70}-12410847811948286545336800y_{k+71}+4998813702034726525205100y_{k+72}-1917353200780443050763600y_{k+73}+699574816500972464467800y_{k+74}-242519269720337121015504y_{k+75}+79776075565900368755100y_{k+76}-24865270306254660391200y_{k+77}+7332066885177656269200y_{k+78}-2041841411062132125600y_{k+79}+535983370403809682970y_{k+80}-132341572939212267400y_{k+81}+30664510802988208300y_{k+82}-6650134872937201800y_{k+83}+1345860629046814650y_{k+84}-253338471349988640y_{k+85}+44186942677323600y_{k+86}-7110542499799200y_{k+87}+1050421051106700y_{k+88}-141629804643600y_{k+89}+17310309456440y_{k+90}-1902231808400y_{k+91}+186087894300y_{k+92}-16007560800y_{k+93}+1192052400y_{k+94}-75287520y_{k+95}+3921225y_{k+96}-161700y_{k+97}+4950y_{k+98}-100y_{k+99}+y_{k+100}$"
      ],
      "text/plain": [
       "<IPython.core.display.HTML object>"
      ]
     },
     "metadata": {},
     "output_type": "display_data"
    },
    {
     "data": {
      "text/plain": [
       "<App.FDM.order.Desarrollo at 0xa24c430>"
      ]
     },
     "execution_count": 4,
     "metadata": {},
     "output_type": "execute_result"
    }
   ],
   "source": [
    "n = 100\n",
    "\n",
    "from App.FDM.order import *\n",
    "Desarrollo(n, progresiva=True)"
   ]
  }
 ],
 "metadata": {
  "kernelspec": {
   "display_name": "Python 3",
   "language": "python",
   "name": "python3"
  },
  "language_info": {
   "codemirror_mode": {
    "name": "ipython",
    "version": 3
   },
   "file_extension": ".py",
   "mimetype": "text/x-python",
   "name": "python",
   "nbconvert_exporter": "python",
   "pygments_lexer": "ipython3",
   "version": "3.7.4"
  }
 },
 "nbformat": 4,
 "nbformat_minor": 4
}
