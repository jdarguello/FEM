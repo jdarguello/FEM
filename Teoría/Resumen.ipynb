{
 "cells": [
  {
   "cell_type": "markdown",
   "metadata": {},
   "source": [
    "<center><h1><strong>Resumen Teórico - FEM</strong></h1></center>\n",
    "\n",
    "<div align=\"justify\">\n",
    "    El presente documento se centra en el desarrollo de un resumen teórico del <i>Método de Elementos Finitos</i>. Diferentes software comerciales, entre ellos: Ansys, Abaqus y Comsol emplean la siguiente lógica para el desarrollo de las simulaciones numéricas.\n",
    "</div>\n",
    "\n",
    "<br>\n",
    "\n",
    "<img src=\"Images/Black_Box/Box-1.PNG\" style=\"width: 600px;\" />\n",
    "\n",
    "<center><i>Figura 1.</i> Caja negra.</center>\n",
    "\n",
    "<div align=\"justify\">\n",
    "    La <i>caja gris</i> se puede evidenciar a continuación.\n",
    "</div>\n",
    "\n",
    "<img src=\"Images/Black_Box/Box-2.PNG\" style=\"width: 700px;\" />\n",
    "\n",
    "<center><i>Figura 2.</i> Caja gris.</center>\n"
   ]
  },
  {
   "cell_type": "code",
   "execution_count": null,
   "metadata": {},
   "outputs": [],
   "source": []
  }
 ],
 "metadata": {
  "kernelspec": {
   "display_name": "Python 3",
   "language": "python",
   "name": "python3"
  },
  "language_info": {
   "codemirror_mode": {
    "name": "ipython",
    "version": 3
   },
   "file_extension": ".py",
   "mimetype": "text/x-python",
   "name": "python",
   "nbconvert_exporter": "python",
   "pygments_lexer": "ipython3",
   "version": "3.7.4"
  }
 },
 "nbformat": 4,
 "nbformat_minor": 4
}
