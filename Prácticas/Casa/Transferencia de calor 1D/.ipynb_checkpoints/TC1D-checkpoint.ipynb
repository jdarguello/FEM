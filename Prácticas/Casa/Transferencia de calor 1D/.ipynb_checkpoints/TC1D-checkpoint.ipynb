{
 "cells": [
  {
   "cell_type": "markdown",
   "metadata": {},
   "source": [
    "<div align=\"center\">\n",
    "    <h1><strong>Transferencia de Calor 1D</strong></h1>\n",
    "    <h2>Juan David Argüello Plata</h2>\n",
    "    <img src=\"Images/uis.png\" style=\"width: 300px;\" />\n",
    "</div>\n",
    "\n",
    "## Planteamiento del problema\n",
    "\n",
    "<div align=\"justify\">\n",
    "    Se busca analizar, mediante métodos <u>analíticos</u> y <u>numéricos</u>, la transferencia de calor en una barra cuadrangular bajo las siguientes suposiciones:\n",
    "</div>\n",
    "\n",
    "* Conductividad térmica constante.\n",
    "* Conducción 1D (dirección x - línea verde en la Figura 1).\n",
    "* Conducción estable (no transitoria).\n",
    "\n",
    "<img src=\"Images/Esquema_3D/Esquema.PNG\" style=\"width: 700px;\" />\n",
    "<center><i>Figura 2.</i> Transferencia de calor por conducción.</center>\n",
    "\n",
    "## __1. Desarrollo teórico__\n",
    "\n",
    "### 1.1. Sobre toda la barra\n",
    "\n",
    "<div align=\"justify\">\n",
    "    Del balance energético sobre toda la barra se obtiene lo siguiente:\n",
    "    $$\n",
    "    \\begin{equation}\n",
    "        Q _g A \\left(x - L \\right) + K A \\frac{dT}{dx} = 0\n",
    "        \\tag{1}\n",
    "        \\label{Global}\n",
    "    \\end{equation}\n",
    "    $$\n",
    "</div>"
   ]
  },
  {
   "cell_type": "code",
   "execution_count": 5,
   "metadata": {},
   "outputs": [
    {
     "name": "stdout",
     "output_type": "stream",
     "text": [
      "IPython console for SymPy 1.4 (Python 3.7.4-32-bit) (ground types: python)\n",
      "\n",
      "These commands were executed:\n",
      ">>> from __future__ import division\n",
      ">>> from sympy import *\n",
      ">>> x, y, z, t = symbols('x y z t')\n",
      ">>> k, m, n = symbols('k m n', integer=True)\n",
      ">>> f, g, h = symbols('f g h', cls=Function)\n",
      ">>> init_printing()\n",
      "\n",
      "Documentation can be found at https://docs.sympy.org/1.4/\n",
      "\n"
     ]
    }
   ],
   "source": [
    "from sympy import init_session\n",
    "init_session(use_latex=True)"
   ]
  },
  {
   "cell_type": "markdown",
   "metadata": {},
   "source": [
    "### Condiciones de frontera\n",
    "\n",
    "<div align=\"justify\">\n",
    "    Las condiciones de frontera sobre el dominio $\\left(0 \\leq x \\leq L\\right)$ son:\n",
    "    <ul>\n",
    "        <li>$T (0) = T_0 \\rightarrow$ Temperatura inicial.</li>\n",
    "        <li>$q(L) = q_L = -K \\frac{\\partial T}{\\partial x} \\Big| _{x=L} = 0 \\rightarrow$ Transferencia de calor por unidad de área en el extremo.</li>\n",
    "    </ul>\n",
    "</div>"
   ]
  },
  {
   "cell_type": "code",
   "execution_count": 6,
   "metadata": {},
   "outputs": [
    {
     "data": {
      "text/html": [
       "$T(0) = T_0 = 0\\left[°C\\right]$"
      ],
      "text/plain": [
       "<IPython.core.display.HTML object>"
      ]
     },
     "metadata": {},
     "output_type": "display_data"
    },
    {
     "data": {
      "text/html": [
       "$Q_g= 100\\left[W/m^3\\right]$"
      ],
      "text/plain": [
       "<IPython.core.display.HTML object>"
      ]
     },
     "metadata": {},
     "output_type": "display_data"
    },
    {
     "data": {
      "text/html": [
       "$K= 55\\left[W/°C\\right]$"
      ],
      "text/plain": [
       "<IPython.core.display.HTML object>"
      ]
     },
     "metadata": {},
     "output_type": "display_data"
    },
    {
     "data": {
      "text/html": [
       "$L= 3\\left[m\\right]$"
      ],
      "text/plain": [
       "<IPython.core.display.HTML object>"
      ]
     },
     "metadata": {},
     "output_type": "display_data"
    }
   ],
   "source": [
    "\"\"\"\n",
    "    Selecciona el valor de la temperatura inicial, \n",
    "    la generación de calor, la conductividad térmica \n",
    "    y la longitud.\n",
    "\"\"\"\n",
    "var = {\n",
    "    'T_0':{\n",
    "        'Valor':0,\n",
    "        'Units': '°C'\n",
    "    },\n",
    "    'Q_g':{\n",
    "        'Valor':100,\n",
    "        'Units': 'W/m^3'\n",
    "    },\n",
    "    'K':{\n",
    "        'Valor': 55,\n",
    "        'Units': 'W/°C'\n",
    "    },\n",
    "    'L':{\n",
    "        'Valor':3,\n",
    "        'Units':'m'\n",
    "    }\n",
    "}\n",
    "\n",
    "from IPython.display import HTML, display\n",
    "Prim = True\n",
    "for const in var:\n",
    "    if Prim:\n",
    "        text = const[0] + '(0) = T_0 = '\n",
    "        Prim = False\n",
    "    else:\n",
    "        text = const + '= '\n",
    "    display(HTML('$' + text + str(var[const]['Valor']) + \\\n",
    "                 '\\left[' + var[const]['Units'] + '\\\\right]$'))"
   ]
  },
  {
   "cell_type": "markdown",
   "metadata": {},
   "source": [
    "<div align=\"justify\">\n",
    "    Resolviendo la Ecuación 1 mediante <i>Sympy</i> (librería de Python), y empleando las condiciones de frontera respectivas, se obtiene la siguiente relación matemática para la temperatura en cualquier punto $x$.\n",
    "</div>"
   ]
  },
  {
   "cell_type": "code",
   "execution_count": 7,
   "metadata": {},
   "outputs": [
    {
     "data": {
      "image/png": "[encoded data removed]",
      "text/latex": [
       "$\\displaystyle T{\\left(x \\right)} = \\frac{L Q_{g} x}{K} - \\frac{Q_{g} x^{2}}{2 K}$"
      ],
      "text/plain": [
       "                      2\n",
       "       L⋅Q_g⋅x   Q_g⋅x \n",
       "T(x) = ─────── - ──────\n",
       "          K       2⋅K  "
      ]
     },
     "execution_count": 7,
     "metadata": {},
     "output_type": "execute_result"
    }
   ],
   "source": [
    "T = Function('T')\n",
    "Q_g, A, K, L = symbols('Q_g A K L')\n",
    "Ec = Eq(Q_g*A*(x-L) + K*A*T(x).diff(x),0)\n",
    "sol = dsolve(Ec,ics={T(0):var['T_0']['Valor']})\n",
    "sol"
   ]
  },
  {
   "cell_type": "markdown",
   "metadata": {},
   "source": [
    "<div align=\"justify\">\n",
    "    Sustituyendo los valores de generación de calor y conductividad térmica...\n",
    "</div>"
   ]
  },
  {
   "cell_type": "code",
   "execution_count": 8,
   "metadata": {},
   "outputs": [
    {
     "data": {
      "image/png": "[encoded data removed]",
      "text/latex": [
       "$\\displaystyle T{\\left(x \\right)} = - \\frac{10 x^{2}}{11} + \\frac{60 x}{11}$"
      ],
      "text/plain": [
       "             2       \n",
       "         10⋅x    60⋅x\n",
       "T(x) = - ───── + ────\n",
       "           11     11 "
      ]
     },
     "execution_count": 8,
     "metadata": {},
     "output_type": "execute_result"
    }
   ],
   "source": [
    "constants = {Q_g:var['Q_g']['Valor'], \n",
    "             K:var['K']['Valor'],\n",
    "             L:var['L']['Valor']}\n",
    "final = sol.subs(constants)\n",
    "final"
   ]
  },
  {
   "cell_type": "markdown",
   "metadata": {},
   "source": [
    "<div align=\"justify\">\n",
    "    Que gráficamente representa lo siguiente:\n",
    "</div>"
   ]
  },
  {
   "cell_type": "code",
   "execution_count": 9,
   "metadata": {},
   "outputs": [
    {
     "data": {
      "image/png": "[encoded data removed]",
      "text/plain": [
       "<Figure size 432x288 with 1 Axes>"
      ]
     },
     "metadata": {
      "needs_background": "light"
     },
     "output_type": "display_data"
    },
    {
     "data": {
      "text/plain": [
       "<sympy.plotting.plot.Plot at 0xd94a930>"
      ]
     },
     "execution_count": 9,
     "metadata": {},
     "output_type": "execute_result"
    }
   ],
   "source": [
    "%matplotlib inline\n",
    "import matplotlib.pyplot as plt\n",
    "sol = solve(final, T(x))\n",
    "plot(sol[0], (x,0,var['L']['Valor']))"
   ]
  },
  {
   "cell_type": "markdown",
   "metadata": {},
   "source": [
    "### 1.2. Sobre un Elemento Infinitesimal\n",
    "\n",
    "<div align=\"justify\">\n",
    "    Desarrollando el balance de energía sobre el volumen de control inifinitesimal, se obtiene:\n",
    "    $$\n",
    "    \\begin{equation}\n",
    "        0 = \\frac{d q_x}{d x} \\Delta x - Q \\Delta x \\Delta y \\Delta z\n",
    "        \\tag{2}\n",
    "        \\label{General}\n",
    "    \\end{equation}\n",
    "    $$\n",
    "    Dónde: $\\Delta x$, $\\Delta y$ y $\\Delta z$ son las longitudes inifinitesimales; y $Q$ es calor generado, por unidad de volumen, del elemento.\n",
    "</div>\n",
    "\n",
    "<div align=\"justify\">\n",
    "    La Ecuación \\ref{General} se puede relacionar con la Ley de Fourier (Ecuación \\ref{fou}).\n",
    "    $$\n",
    "    \\begin{equation}\n",
    "        q_x = -K \\frac{d T}{d x} \\Delta y \\Delta z\n",
    "        \\tag{3}\n",
    "        \\label{fou}\n",
    "    \\end{equation}\n",
    "    $$\n",
    "</div>\n",
    "\n",
    "<div align=\"justify\">\n",
    "    Obteniéndose:\n",
    "    $$\n",
    "    \\begin{equation}\n",
    "        \\left[ -K \\frac{d ^2 T}{d x ^2} - Q \\right] \\Delta x \\Delta y \\Delta z = 0 \\rightarrow K \\frac{d ^2 T}{d x ^2} + Q = 0\n",
    "        \\tag{4}\n",
    "        \\label{DifGen}\n",
    "    \\end{equation}\n",
    "    $$\n",
    "    La Ecuación \\ref{DifGen} corresponde a la conservación de la energía dentro del volumen de control infinitesimal. Resolviendo mediante <i>Sympy</i>, se obtiene lo siguiente:\n",
    "</div>"
   ]
  },
  {
   "cell_type": "code",
   "execution_count": 10,
   "metadata": {},
   "outputs": [
    {
     "data": {
      "image/png": "[encoded data removed]",
      "text/latex": [
       "$\\displaystyle T{\\left(x \\right)} = - \\frac{Q_{g} x^{2}}{2 K} + \\frac{3 Q_{g} x}{K}$"
      ],
      "text/plain": [
       "              2          \n",
       "         Q_g⋅x    3⋅Q_g⋅x\n",
       "T(x) = - ────── + ───────\n",
       "          2⋅K        K   "
      ]
     },
     "execution_count": 10,
     "metadata": {},
     "output_type": "execute_result"
    }
   ],
   "source": [
    "Ec = Eq(K*T(x).diff(x,2) + Q_g,0)\n",
    "sol = dsolve(Ec, ics={T(0):var['T_0']['Valor'], T(x).diff(x).subs(x,var['L']['Valor']):0})\n",
    "sol"
   ]
  },
  {
   "cell_type": "code",
   "execution_count": 11,
   "metadata": {},
   "outputs": [
    {
     "data": {
      "image/png": "[encoded data removed]",
      "text/latex": [
       "$\\displaystyle T{\\left(x \\right)} = - \\frac{10 x^{2}}{11} + \\frac{60 x}{11}$"
      ],
      "text/plain": [
       "             2       \n",
       "         10⋅x    60⋅x\n",
       "T(x) = - ───── + ────\n",
       "           11     11 "
      ]
     },
     "execution_count": 11,
     "metadata": {},
     "output_type": "execute_result"
    }
   ],
   "source": [
    "constants = {Q_g:var['Q_g']['Valor'], K:var['K']['Valor']}\n",
    "final = sol.subs(constants)\n",
    "final"
   ]
  },
  {
   "cell_type": "code",
   "execution_count": 12,
   "metadata": {},
   "outputs": [
    {
     "data": {
      "image/png": "[encoded data removed]",
      "text/plain": [
       "<Figure size 432x288 with 1 Axes>"
      ]
     },
     "metadata": {
      "needs_background": "light"
     },
     "output_type": "display_data"
    },
    {
     "data": {
      "text/plain": [
       "<sympy.plotting.plot.Plot at 0xd94aa70>"
      ]
     },
     "execution_count": 12,
     "metadata": {},
     "output_type": "execute_result"
    }
   ],
   "source": [
    "%matplotlib inline\n",
    "sol = solve(final, T(x))\n",
    "plot(sol[0], (x,0,var['L']['Valor']))"
   ]
  },
  {
   "cell_type": "markdown",
   "metadata": {},
   "source": [
    "## __2. Solución Numérica__\n",
    "\n",
    "<div align=\"justify\">\n",
    "    El proceso de solución se basa en la <i>discretización</i>, que consiste en reducir el problema a la determinación de la <u>temperatura</u> en <u>puntos específicos</u> (<strong>\"nodos\"</strong>).\n",
    "</div>\n",
    "\n",
    "<br>\n",
    "\n",
    "<img src=\"Images/Esquema/Esquema.PNG\" style=\"width: 500px;\" />\n",
    "<center><i>Figura 3.</i> Discretización del problema.</center>\n",
    "\n",
    "<div align=\"justify\">\n",
    "    De los nodos se puede definir la función de temperatura $T(x)$, donde los valores de temperatura entre nodos se obtienen mediante interpolación. Al final, se esperaría obtener una gráfica de temperatura como la mostrada en la Figura 4.\n",
    "</div>\n",
    "\n",
    "<img src=\"Images/Gráficas/Temp.PNG\" style=\"width: 500px;\" />\n",
    "<center><i>Figura 4.</i> Gráfica de temperatura final esperada.</center>\n",
    "\n",
    "<div align=\"justify\">\n",
    "    Este problema en particular tiene <strong>4 nodos y 3 elementos</strong>. Como se puede observar en la Figura 3, $T(x)$ es una función <i>a trozos</i>.\n",
    "</div>"
   ]
  },
  {
   "cell_type": "markdown",
   "metadata": {},
   "source": [
    "### 2.1. FDM\n",
    "\n",
    "<div align=\"justify\">\n",
    "    El desarrollo mediante el <i>Método de Diferencias Finitas</i> consiste en la conversión de la Ecuación 4 en un sistema matricial nodal, como se puede apreciar a continuación.\n",
    "</div>"
   ]
  },
  {
   "cell_type": "code",
   "execution_count": 91,
   "metadata": {},
   "outputs": [
    {
     "data": {
      "image/png": "[encoded data removed]",
      "text/latex": [
       "$\\displaystyle \\left[ \\frac{K \\left(T_{0} - 2 T_{1} + T_{2}\\right)}{\\Delta x^{2}} + Q_{g} = 0, \\  \\frac{K \\left(T_{1} - 2 T_{2} + T_{3}\\right)}{\\Delta x^{2}} + Q_{g} = 0, \\  \\frac{K \\left(T_{2} - 2 T_{3} + T_{4}\\right)}{\\Delta x^{2}} + Q_{g} = 0, \\  \\frac{K \\left(T_{3} - 2 T_{4} + T_{5}\\right)}{\\Delta x^{2}} + Q_{g} = 0, \\  \\frac{K \\left(T_{4} - 2 T_{5} + T_{6}\\right)}{\\Delta x^{2}} + Q_{g} = 0, \\  \\frac{K \\left(T_{5} - 2 T_{6} + T_{7}\\right)}{\\Delta x^{2}} + Q_{g} = 0, \\  \\frac{K \\left(T_{6} - 2 T_{7} + T_{8}\\right)}{\\Delta x^{2}} + Q_{g} = 0, \\  \\frac{K \\left(T_{7} - 2 T_{8} + T_{9}\\right)}{\\Delta x^{2}} + Q_{g} = 0, \\  \\frac{K \\left(T_{10} + T_{8} - 2 T_{9}\\right)}{\\Delta x^{2}} + Q_{g} = 0, \\  \\frac{K \\left(- 2 T_{10} + T_{11} + T_{9}\\right)}{\\Delta x^{2}} + Q_{g} = 0, \\  \\frac{K \\left(T_{10} - 2 T_{11} + T_{12}\\right)}{\\Delta x^{2}} + Q_{g} = 0, \\  \\frac{K \\left(T_{11} - 2 T_{12} + T_{13}\\right)}{\\Delta x^{2}} + Q_{g} = 0, \\  \\frac{K \\left(T_{12} - 2 T_{13} + T_{14}\\right)}{\\Delta x^{2}} + Q_{g} = 0, \\  T_{0} = 0, \\  - \\frac{K \\left(- T_{13} + T_{14}\\right)}{\\Delta x} = 0\\right]$"
      ],
      "text/plain": [
       "⎡K⋅(T₀ - 2⋅T₁ + T₂)            K⋅(T₁ - 2⋅T₂ + T₃)            K⋅(T₂ - 2⋅T₃ + T₄\n",
       "⎢────────────────── + Q_g = 0, ────────────────── + Q_g = 0, ─────────────────\n",
       "⎢            2                             2                             2    \n",
       "⎣    \\Delta x                      \\Delta x                      \\Delta x     \n",
       "\n",
       ")            K⋅(T₃ - 2⋅T₄ + T₅)            K⋅(T₄ - 2⋅T₅ + T₆)            K⋅(T₅\n",
       "─ + Q_g = 0, ────────────────── + Q_g = 0, ────────────────── + Q_g = 0, ─────\n",
       "                         2                             2                      \n",
       "                 \\Delta x                      \\Delta x                      \\\n",
       "\n",
       " - 2⋅T₆ + T₇)            K⋅(T₆ - 2⋅T₇ + T₈)            K⋅(T₇ - 2⋅T₈ + T₉)     \n",
       "───────────── + Q_g = 0, ────────────────── + Q_g = 0, ────────────────── + Q_\n",
       "       2                             2                             2          \n",
       "Delta x                      \\Delta x                      \\Delta x           \n",
       "\n",
       "       K⋅(T₁₀ + T₈ - 2⋅T₉)            K⋅(-2⋅T₁₀ + T₁₁ + T₉)            K⋅(T₁₀ \n",
       "g = 0, ─────────────────── + Q_g = 0, ───────────────────── + Q_g = 0, ───────\n",
       "                    2                               2                         \n",
       "            \\Delta x                        \\Delta x                         \\\n",
       "\n",
       "- 2⋅T₁₁ + T₁₂)            K⋅(T₁₁ - 2⋅T₁₂ + T₁₃)            K⋅(T₁₂ - 2⋅T₁₃ + T₁\n",
       "────────────── + Q_g = 0, ───────────────────── + Q_g = 0, ───────────────────\n",
       "       2                                2                                2    \n",
       "Delta x                         \\Delta x                         \\Delta x     \n",
       "\n",
       "₄)                    -K⋅(-T₁₃ + T₁₄)     ⎤\n",
       "── + Q_g = 0, T₀ = 0, ──────────────── = 0⎥\n",
       "                          \\Delta x        ⎥\n",
       "                                          ⎦"
      ]
     },
     "execution_count": 91,
     "metadata": {},
     "output_type": "execute_result"
    }
   ],
   "source": [
    "#Número de nodos\n",
    "n = 15\n",
    "Ts = symbols('T_0:' + str(n))\n",
    "l = Symbol('\\Delta x')\n",
    "#Condiciones internas\n",
    "Ec = []\n",
    "for i in range(1,n-1):\n",
    "    Ec.append(Eq(K*(-2*Ts[i] + Ts[i-1] + Ts[i+1])/l**2 + Q_g,0))\n",
    "#Condición de frontera\n",
    "Ec.append(Eq(Ts[0], var['T_0']['Valor']))\n",
    "Ec.append(Eq(-K*(Ts[-1] - Ts[-2])/l,0))\n",
    "Ec"
   ]
  },
  {
   "cell_type": "markdown",
   "metadata": {},
   "source": [
    "<div align=\"justify\">\n",
    "    La solución del sistema de ecuaciones mostrado es el siguiente:\n",
    "</div>"
   ]
  },
  {
   "cell_type": "code",
   "execution_count": 96,
   "metadata": {},
   "outputs": [
    {
     "data": {
      "text/html": [
       "$T_{0} = 0.0$"
      ],
      "text/plain": [
       "<IPython.core.display.HTML object>"
      ]
     },
     "metadata": {},
     "output_type": "display_data"
    },
    {
     "data": {
      "text/html": [
       "$T_{1} = 1.085$"
      ],
      "text/plain": [
       "<IPython.core.display.HTML object>"
      ]
     },
     "metadata": {},
     "output_type": "display_data"
    },
    {
     "data": {
      "text/html": [
       "$T_{2} = 2.087$"
      ],
      "text/plain": [
       "<IPython.core.display.HTML object>"
      ]
     },
     "metadata": {},
     "output_type": "display_data"
    },
    {
     "data": {
      "text/html": [
       "$T_{3} = 3.006$"
      ],
      "text/plain": [
       "<IPython.core.display.HTML object>"
      ]
     },
     "metadata": {},
     "output_type": "display_data"
    },
    {
     "data": {
      "text/html": [
       "$T_{4} = 3.84$"
      ],
      "text/plain": [
       "<IPython.core.display.HTML object>"
      ]
     },
     "metadata": {},
     "output_type": "display_data"
    },
    {
     "data": {
      "text/html": [
       "$T_{5} = 4.592$"
      ],
      "text/plain": [
       "<IPython.core.display.HTML object>"
      ]
     },
     "metadata": {},
     "output_type": "display_data"
    },
    {
     "data": {
      "text/html": [
       "$T_{6} = 5.26$"
      ],
      "text/plain": [
       "<IPython.core.display.HTML object>"
      ]
     },
     "metadata": {},
     "output_type": "display_data"
    },
    {
     "data": {
      "text/html": [
       "$T_{7} = 5.844$"
      ],
      "text/plain": [
       "<IPython.core.display.HTML object>"
      ]
     },
     "metadata": {},
     "output_type": "display_data"
    },
    {
     "data": {
      "text/html": [
       "$T_{8} = 6.345$"
      ],
      "text/plain": [
       "<IPython.core.display.HTML object>"
      ]
     },
     "metadata": {},
     "output_type": "display_data"
    },
    {
     "data": {
      "text/html": [
       "$T_{9} = 6.763$"
      ],
      "text/plain": [
       "<IPython.core.display.HTML object>"
      ]
     },
     "metadata": {},
     "output_type": "display_data"
    },
    {
     "data": {
      "text/html": [
       "$T_{10} = 7.096$"
      ],
      "text/plain": [
       "<IPython.core.display.HTML object>"
      ]
     },
     "metadata": {},
     "output_type": "display_data"
    },
    {
     "data": {
      "text/html": [
       "$T_{11} = 7.347$"
      ],
      "text/plain": [
       "<IPython.core.display.HTML object>"
      ]
     },
     "metadata": {},
     "output_type": "display_data"
    },
    {
     "data": {
      "text/html": [
       "$T_{12} = 7.514$"
      ],
      "text/plain": [
       "<IPython.core.display.HTML object>"
      ]
     },
     "metadata": {},
     "output_type": "display_data"
    },
    {
     "data": {
      "text/html": [
       "$T_{13} = 7.597$"
      ],
      "text/plain": [
       "<IPython.core.display.HTML object>"
      ]
     },
     "metadata": {},
     "output_type": "display_data"
    },
    {
     "data": {
      "text/html": [
       "$T_{14} = 7.597$"
      ],
      "text/plain": [
       "<IPython.core.display.HTML object>"
      ]
     },
     "metadata": {},
     "output_type": "display_data"
    }
   ],
   "source": [
    "import numpy as np\n",
    "difx = var['L']['Valor']/(n-1)\n",
    "Ec = [Ts[0] - var['T_0']['Valor'], -var['K']['Valor']*(Ts[-1] - Ts[-2])/difx]\n",
    "for i in range(1,n-1):\n",
    "    Ec.append(var['K']['Valor']*(-2*Ts[i] + Ts[i-1] + Ts[i+1])/(difx)**2 +\\\n",
    "              var['Q_g']['Valor'])\n",
    "sol, = linsolve(Ec, Ts)\n",
    "Tss = np.zeros((2,n))\n",
    "suma = 0\n",
    "for i in range(len(sol)):\n",
    "    suma += difx\n",
    "    Tss[0][i] = sol[i]\n",
    "    if i < len(sol)-1:\n",
    "        Tss[1][i+1] += suma\n",
    "    display(HTML('$T_{' + str(i) + '} = ' + str(round(sol[i],3)) + '$'))"
   ]
  },
  {
   "cell_type": "markdown",
   "metadata": {},
   "source": [
    "<div align=\"justify\">\n",
    "    A continuación, se puede apreicar el comportamiento gráfico entre la <i>temperatura</i> y la <i>distancia</i>.\n",
    "</div>"
   ]
  },
  {
   "cell_type": "code",
   "execution_count": 97,
   "metadata": {},
   "outputs": [
    {
     "data": {
      "image/png": "[encoded data removed]",
      "text/plain": [
       "<Figure size 432x288 with 1 Axes>"
      ]
     },
     "metadata": {
      "needs_background": "light"
     },
     "output_type": "display_data"
    }
   ],
   "source": [
    "%matplotlib inline\n",
    "fig = plt.figure()\n",
    "ax = fig.add_subplot(111)\n",
    "ax.plot(\n",
    "    Tss[1],\n",
    "    Tss[0]\n",
    ")\n",
    "ax.scatter(\n",
    "    Tss[1],\n",
    "    Tss[0]\n",
    ")\n",
    "fig.suptitle('Temperatura vs Longitud')\n",
    "ax.set_xlabel('$x [m]$')\n",
    "ax.set_ylabel('$T \\left[°C \\\\right]$')\n",
    "ax.grid()"
   ]
  },
  {
   "cell_type": "markdown",
   "metadata": {},
   "source": [
    "### 2.2. FEM\n",
    "\n",
    "<div align=\"justify\">\n",
    "    La lógica empleada en la solución numérica es la siguiente:\n",
    "</div>\n",
    "\n",
    "<img src=\"Images/Esquema/Logic-1.png\" style=\"width: 800px;\" />\n",
    "<center><i>Figura 5.</i> Lógica de solución.</center>\n",
    "\n",
    "<div align=\"justify\">\n",
    "    En términos matemáticos, se resume en la solución de la ecuación matricial:\n",
    "    $$\n",
    "    \\begin{equation}\n",
    "        \\left[ K \\right] \\lbrace{ T \\rbrace} = \\lbrace{ Q \\rbrace}\n",
    "        \\tag{5}\n",
    "        \\label{EcGeneral}\n",
    "    \\end{equation}\n",
    "    $$\n",
    "    Dónde $K$ corresponde a la matriz de rigidez, $T$ al vector de temperatura y $Q$ al vector calor.\n",
    "</div>\n",
    "\n",
    "### ¿Cómo derivar el sistema de ecuaciones algebraicas?\n",
    "\n",
    "<div align=\"justify\">\n",
    "    De la sección <i>Desarrollo teórico</i>, la Ecuación \\ref{DifGen} muestra la forma diferencial del problema. La <strong>forma integral ponderada</strong> se puede apreciar en la Ecuación \\ref{IntPond}.\n",
    "    $$\n",
    "    \\begin{equation}\n",
    "        \\int _0 ^L w \\left(K \\frac{\\partial ^2 T}{\\partial x ^2} + Q \\right) \\partial x = 0\n",
    "        \\tag{6}\n",
    "        \\label{IntPond}\n",
    "    \\end{equation}\n",
    "    $$\n",
    "    Dónde $w(x)$ es una función arbitraria. Cabe destacar que <i>la solución exacta se cumple para cualquier función arbitraria</i>.\n",
    "</div>\n",
    "\n",
    "<br>\n",
    "\n",
    "<div align=\"justify\">\n",
    "    Una forma \"peculiar\" de la Ecuación \\ref{IntPond} es:\n",
    "    $$\n",
    "    \\begin{equation}\n",
    "        \\int _0 ^L w^e \\left(K \\frac{\\partial ^2 T}{\\partial x ^2} + Q \\right) \\partial x = 0\n",
    "        \\tag{7}\n",
    "        \\label{IntPec}\n",
    "    \\end{equation}\n",
    "    $$\n",
    "    Dónde $w^e (x)$ es una función polinómica a trozos.\n",
    "</div>\n",
    "\n",
    "<br>\n",
    "\n",
    "<div align=\"justify\">\n",
    "    Entre más nodos se usen, $w^e$ tenderá a ser $w$. La clave está en encontrar una función arbitraria que satisfaga la <i>función de forma</i>.\n",
    "</div>\n",
    "\n",
    "<img src=\"Images/Gráficas/w.PNG\" style=\"width: 500px;\" />\n",
    "<center><i>Figura 6.</i> Función arbitraria.</center>\n",
    "\n",
    "### ¿Cómo encontrar las temperaturas nodales?\n",
    "\n",
    "<div align=\"justify\">\n",
    "    Cada ecuación relaciona la temperatura nodal con sus vecinos (ver Figura 4). Para solucionar la Ecuación \\ref{IntPec}, se desarrolla <a href =\"https://es.wikipedia.org/wiki/M%C3%A9todos_de_integraci%C3%B3n#M%C3%A9todo_de_integraci%C3%B3n_por_partes\"><i>integración por partes</i></a> $\\left( \\int u dv = uv - \\int v du \\right)$.\n",
    "    $$\n",
    "    \\begin{equation}\n",
    "        w^e K \\frac{\\partial T}{\\partial x} \\Big| _0 ^L  - K \\int _0 ^L \\frac{\\partial w^e}{\\partial x} \\frac{\\partial T}{\\partial x} \\partial x + \\int _0 ^L w^e Q \\partial x = 0\n",
    "        \\tag{8}\n",
    "        \\label{EcNum}\n",
    "    \\end{equation}\n",
    "    $$\n",
    "    La Ecuación \\ref{EcNum} se conoce como la <i>forma débil</i> de la ecuación diferencial original.\n",
    "</div>\n",
    "\n",
    "<br>\n",
    "\n",
    "<div align=\"justify\">\n",
    "    A continuación, se desarrolla un análisis por términos de la Ecuación \\ref{EcNum}.\n",
    "    <ol>\n",
    "        <li> El primer término, permite observar si se cumple la ley de la conservación de la energía.\n",
    "            $$\n",
    "                w^e K \\frac{\\partial T}{\\partial x} \\Big| _0 ^L = K \\left[ w_4 \\left( \\frac{\\partial T}{\\partial x} \\right) _4 - w_1 \\left( \\frac{\\partial T}{\\partial x} \\right) _1 \\right]\n",
    "            $$\n",
    "        </li>\n",
    "        <li> El segundo término compete al desarrollo de la matriz de rigidez (Ecuación \\ref{EcGeneral}).\n",
    "        </li>\n",
    "        <li>El tercer término corresponde al <i>\"término fuente\"</i>. La integración se realiza <u>elemento por elemento</u> (ver Figuras 6 y 7).\n",
    "            $$\n",
    "                \\int _0 ^L w^e Q \\partial x = Q \\sum _{i=0} ^{n} \\int _{i \\Delta x} ^{\\left(i+1 \\right) \\Delta x} w^e \\partial x\n",
    "            $$\n",
    "            Dónde $n=\\# Elementos$. Por ejemplo: para el primer elemento...\n",
    "            $$\n",
    "              Q \\int _0 ^{\\Delta x} w^e \\partial x = Q \\frac{\\left(w_1 + w_2 \\right) \\Delta x}{2}\n",
    "            $$\n",
    "            <img src=\"Images/Esquema/part.PNG\" style=\"width: 800px;\" />\n",
    "            \n",
    "<center><i>Figura 7.</i> Distribución de energía por elemento.</center>\n",
    "        </li>\n",
    "    </ol>\n",
    "</div>"
   ]
  },
  {
   "cell_type": "code",
   "execution_count": null,
   "metadata": {},
   "outputs": [],
   "source": []
  }
 ],
 "metadata": {
  "kernelspec": {
   "display_name": "Python 3",
   "language": "python",
   "name": "python3"
  },
  "language_info": {
   "codemirror_mode": {
    "name": "ipython",
    "version": 3
   },
   "file_extension": ".py",
   "mimetype": "text/x-python",
   "name": "python",
   "nbconvert_exporter": "python",
   "pygments_lexer": "ipython3",
   "version": "3.7.4"
  }
 },
 "nbformat": 4,
 "nbformat_minor": 4
}
