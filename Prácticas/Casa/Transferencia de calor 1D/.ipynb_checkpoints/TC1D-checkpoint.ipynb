{
 "cells": [
  {
   "cell_type": "markdown",
   "metadata": {},
   "source": [
    "<div align=\"center\">\n",
    "    <h1><strong>Transferencia de Calor 1D</strong></h1>\n",
    "    <h2>Juan David Argüello Plata</h2>\n",
    "    <img src=\"Images/uis.png\" style=\"width: 300px;\" />\n",
    "</div>\n",
    "\n",
    "## Planteamiento del problema\n",
    "\n",
    "<div align=\"justify\">\n",
    "    Se busca analizar, mediante métodos <u>analíticos</u> y <u>numéricos</u>, la transferencia de calor en una barra cuadrangular bajo las siguientes suposiciones:\n",
    "</div>\n",
    "\n",
    "* Conductividad térmica constante.\n",
    "* Conducción 1D (dirección x - línea verde en la Figura 1).\n",
    "* Conducción estable (no transitoria).\n",
    "* Generación de calor volumétrica constante.\n",
    "\n",
    "<img src=\"Images/Esquema_3D/Esquema.PNG\" style=\"width: 700px;\" />\n",
    "<center><i>Figura 2.</i> Transferencia de calor por conducción.</center>\n",
    "\n",
    "## __1. Desarrollo teórico__\n",
    "\n",
    "### 1.1. Sobre toda la barra\n",
    "\n",
    "<div align=\"justify\">\n",
    "    Del balance energético sobre toda la barra se obtiene lo siguiente:\n",
    "    $$\n",
    "    \\begin{equation}\n",
    "        Q _g A x + K A \\frac{dT}{dx} = 0\n",
    "        \\tag{1}\n",
    "        \\label{Global}\n",
    "    \\end{equation}\n",
    "    $$\n",
    "</div>"
   ]
  },
  {
   "cell_type": "code",
   "execution_count": null,
   "metadata": {},
   "outputs": [],
   "source": [
    "from sympy import init_session\n",
    "init_session(use_latex=True)"
   ]
  },
  {
   "cell_type": "markdown",
   "metadata": {},
   "source": [
    "### Condiciones de frontera\n",
    "\n",
    "<div align=\"justify\">\n",
    "    Las condiciones de frontera sobre el dominio $\\left(0 \\leq x \\leq L\\right)$ son:\n",
    "    <ul>\n",
    "        <li>$T (0) = T_0 \\rightarrow$ Temperatura inicial.</li>\n",
    "        <li>$q(L) = q_L = -K \\frac{\\partial T}{\\partial x} \\Big| _{x=L} = 0 \\rightarrow$ Transferencia de calor por unidad de área en el extremo.</li>\n",
    "    </ul>\n",
    "</div>"
   ]
  },
  {
   "cell_type": "code",
   "execution_count": null,
   "metadata": {},
   "outputs": [],
   "source": [
    "\"\"\"\n",
    "    Selecciona el valor de la temperatura inicial, \n",
    "    la generación de calor, la conductividad térmica \n",
    "    y la longitud.\n",
    "\"\"\"\n",
    "var = {\n",
    "    'T_0':{\n",
    "        'Valor':0,\n",
    "        'Units': '°C'\n",
    "    },\n",
    "    'Q_g':{\n",
    "        'Valor':100,\n",
    "        'Units': 'W/m^3'\n",
    "    },\n",
    "    'K':{\n",
    "        'Valor': 55,\n",
    "        'Units': 'W/°C'\n",
    "    },\n",
    "    'L':{\n",
    "        'Valor':3,\n",
    "        'Units':'m'\n",
    "    }\n",
    "}\n",
    "\n",
    "from IPython.display import HTML, display\n",
    "Prim = True\n",
    "for const in var:\n",
    "    if Prim:\n",
    "        text = const[0] + '(0) = T_0 = '\n",
    "        Prim = False\n",
    "    else:\n",
    "        text = const + '= '\n",
    "    display(HTML('$' + text + str(var[const]['Valor']) + \\\n",
    "                 '\\left[' + var[const]['Units'] + '\\\\right]$'))"
   ]
  },
  {
   "cell_type": "markdown",
   "metadata": {},
   "source": [
    "<div align=\"justify\">\n",
    "    Resolviendo la Ecuación 1 mediante <i>Sympy</i> (librería de Python), y empleando las condiciones de frontera respectivas, se obtiene la siguiente relación matemática para la temperatura en cualquier punto $x$.\n",
    "</div>"
   ]
  },
  {
   "cell_type": "code",
   "execution_count": null,
   "metadata": {},
   "outputs": [],
   "source": [
    "T = Function('T')\n",
    "Q_g, A, K = symbols('Q_g A K')\n",
    "Ec = Eq(Q_g*A*x + K*A*T(x).diff(x),0)\n",
    "sol = dsolve(Ec,ics={T(0):var['T_0']['Valor']})\n",
    "sol"
   ]
  },
  {
   "cell_type": "markdown",
   "metadata": {},
   "source": [
    "<div align=\"justify\">\n",
    "    Sustituyendo los valores de generación de calor y conductividad térmica...\n",
    "</div>"
   ]
  },
  {
   "cell_type": "code",
   "execution_count": null,
   "metadata": {},
   "outputs": [],
   "source": [
    "constants = {Q_g:var['Q_g']['Valor'], K:var['K']['Valor']}\n",
    "final = sol.subs(constants)\n",
    "final"
   ]
  },
  {
   "cell_type": "markdown",
   "metadata": {},
   "source": [
    "<div align=\"justify\">\n",
    "    Que gráficamente representa lo siguiente:\n",
    "</div>"
   ]
  },
  {
   "cell_type": "code",
   "execution_count": null,
   "metadata": {},
   "outputs": [],
   "source": [
    "%matplotlib inline\n",
    "import matplotlib.pyplot as plt\n",
    "sol = solve(final, T(x))\n",
    "plot(sol[0], (x,0,var['L']['Valor']))"
   ]
  },
  {
   "cell_type": "markdown",
   "metadata": {},
   "source": [
    "### 1.2. Sobre un Elemento Infinitesimal\n",
    "\n",
    "<div align=\"justify\">\n",
    "    Desarrollando el balance de energía sobre el volumen de control inifinitesimal, se obtiene:\n",
    "    $$\n",
    "    \\begin{equation}\n",
    "        0 = \\frac{d q_x}{d x} \\Delta x - Q \\Delta x \\Delta y \\Delta z\n",
    "        \\tag{2}\n",
    "        \\label{General}\n",
    "    \\end{equation}\n",
    "    $$\n",
    "    Dónde: $\\Delta x$, $\\Delta y$ y $\\Delta z$ son las longitudes inifinitesimales; y $Q$ es calor generado, por unidad de volumen, del elemento.\n",
    "</div>\n",
    "\n",
    "<div align=\"justify\">\n",
    "    La Ecuación \\ref{General} se puede relacionar con la Ley de Fourier (Ecuación \\ref{fou}).\n",
    "    $$\n",
    "    \\begin{equation}\n",
    "        q_x = -K \\frac{d T}{d x} \\Delta y \\Delta z\n",
    "        \\tag{3}\n",
    "        \\label{fou}\n",
    "    \\end{equation}\n",
    "    $$\n",
    "</div>\n",
    "\n",
    "<div align=\"justify\">\n",
    "    Obteniéndose:\n",
    "    $$\n",
    "    \\begin{equation}\n",
    "        \\left[ -K \\frac{d ^2 T}{d x ^2} - Q \\right] \\Delta x \\Delta y \\Delta z = 0 \\rightarrow K \\frac{d ^2 T}{d x ^2} + Q = 0\n",
    "        \\tag{4}\n",
    "        \\label{DifGen}\n",
    "    \\end{equation}\n",
    "    $$\n",
    "    La Ecuación \\ref{DifGen} corresponde a la conservación de la energía dentro del volumen de control infinitesimal. Resolviendo mediante <i>Sympy</i>, se obtiene lo siguiente:\n",
    "</div>"
   ]
  },
  {
   "cell_type": "code",
   "execution_count": null,
   "metadata": {},
   "outputs": [],
   "source": [
    "Ec = Eq(K*T(x).diff(x,2) + Q_g,0)\n",
    "sol = dsolve(Ec, ics={T(0):var['T_0']['Valor'], T(x).diff(x).subs(x,var['L']['Valor']):0})\n",
    "sol"
   ]
  },
  {
   "cell_type": "code",
   "execution_count": null,
   "metadata": {},
   "outputs": [],
   "source": [
    "constants = {Q_g:var['Q_g']['Valor'], K:var['K']['Valor']}\n",
    "final = sol.subs(constants)\n",
    "final"
   ]
  },
  {
   "cell_type": "code",
   "execution_count": null,
   "metadata": {},
   "outputs": [],
   "source": [
    "%matplotlib inline\n",
    "import matplotlib.pyplot as plt\n",
    "sol = solve(final, T(x))\n",
    "plot(sol[0], (x,0,var['L']['Valor']))"
   ]
  },
  {
   "cell_type": "markdown",
   "metadata": {},
   "source": [
    "## __2. Solución Numérica__\n",
    "\n",
    "<div align=\"justify\">\n",
    "    El proceso de solución se basa en la <i>discretización</i>, que consiste en reducir el problema a la determinación de la <u>temperatura</u> en <u>puntos específicos</u> (<strong>\"nodos\"</strong>).\n",
    "</div>\n",
    "\n",
    "<br>\n",
    "\n",
    "<img src=\"Images/Esquema/Esquema.PNG\" style=\"width: 700px;\" />\n",
    "<center><i>Figura 3.</i> Discretización del problema.</center>\n",
    "\n",
    "<div align=\"justify\">\n",
    "    De los nodos se puede definir la función de temperatura $T(x)$, donde los valores de temperatura entre nodos se obtienen mediante interpolación. Al final, se esperaría obtener una gráfica de temperatura como la mostrada en la Figura 4.\n",
    "</div>\n",
    "\n",
    "<img src=\"Images/Gráficas/Temp.PNG\" style=\"width: 700px;\" />\n",
    "<center><i>Figura 4.</i> Gráfica de temperatura final esperada.</center>\n",
    "\n",
    "<div align=\"justify\">\n",
    "    Este problema en particular tiene <strong>4 nodos y 3 elementos</strong>. Como se puede observar en la Figura 3, $T(x)$ es una función <i>a trozos</i>.\n",
    "</div>"
   ]
  },
  {
   "cell_type": "markdown",
   "metadata": {},
   "source": [
    "### 2.1. FDM\n",
    "\n",
    "<div align=\"justify\">\n",
    "    El desarrollo mediante el <i>Método de Diferencias Finitas</i> consiste en la conversión de la Ecuación 4 en un sistema matricial nodal, como se puede apreciar a continuación.\n",
    "</div>"
   ]
  },
  {
   "cell_type": "code",
   "execution_count": null,
   "metadata": {},
   "outputs": [],
   "source": [
    "#Número de nodos\n",
    "n = 4\n",
    "Ts = symbols('T_0:' + str(n))\n",
    "l = Symbol('\\Delta x')\n",
    "#Condiciones internas\n",
    "Ec = []\n",
    "for i in range(1,n-1):\n",
    "    Ec.append(Eq(K*(Ts[i] - 2*Ts[i-1] + Ts[i+1])/l**2 + Q_g,0))\n",
    "#Condición de frontera\n",
    "Ec.append(Eq(Ts[0], var['T_0']['Valor']))\n",
    "Ec.append(Eq(-K*(Ts[-1] - Ts[-2])/l,0))\n",
    "Ec"
   ]
  },
  {
   "cell_type": "markdown",
   "metadata": {},
   "source": [
    "<div align=\"justify\">\n",
    "    La solución del sistema de ecuaciones mostrado es el siguiente:\n",
    "</div>"
   ]
  },
  {
   "cell_type": "code",
   "execution_count": null,
   "metadata": {},
   "outputs": [],
   "source": [
    "Ec = [Ts[0] - var['T_0']['Valor'], -K*(Ts[-1] - Ts[-2])/(var['L']['Valor'])]\n",
    "for i in range(1,n-1):\n",
    "    Ec.append(var['K']['Valor']*(Ts[i] -2*Ts[i-1] + Ts[i+1])/((var['L']['Valor'])/(n-1))**2 +\\\n",
    "              var['Q_g']['Valor'])\n",
    "sol = linsolve(Ec, Ts)\n",
    "sol"
   ]
  },
  {
   "cell_type": "markdown",
   "metadata": {},
   "source": [
    "### 2.2. FEM\n",
    "\n",
    "<div align=\"justify\">\n",
    "    La lógica empleada en la solución numérica es la siguiente:\n",
    "</div>\n",
    "\n",
    "<img src=\"Images/Esquema/Logic-1.png\" style=\"width: 800px;\" />\n",
    "<center><i>Figura 5.</i> Lógica de solución.</center>\n",
    "\n",
    "<div align=\"justify\">\n",
    "    En términos matemáticos, se resume en la solución de la ecuación matricial:\n",
    "    $$\n",
    "    \\begin{equation}\n",
    "        \\left[ K \\right] \\lbrace{ T \\rbrace} = \\lbrace{ Q \\rbrace}\n",
    "        \\tag{5}\n",
    "        \\label{EcGeneral}\n",
    "    \\end{equation}\n",
    "    $$\n",
    "    Dónde $K$ corresponde a la matriz de rigidez, $T$ al vector de temperatura y $Q$ al vector calor.\n",
    "</div>\n",
    "\n",
    "### ¿Cómo derivar el sistema de ecuaciones algebraicas?\n",
    "\n",
    "<div align=\"justify\">\n",
    "    De la sección <i>Desarrollo teórico</i>, la Ecuación \\ref{DifGen} muestra la forma diferencial del problema. La <strong>forma integral ponderada</strong> se puede apreciar en la Ecuación \\ref{IntPond}.\n",
    "    $$\n",
    "    \\begin{equation}\n",
    "        \\int _0 ^L w \\left(K \\frac{\\partial ^2 T}{\\partial x ^2} + Q \\right) \\partial x = 0\n",
    "        \\tag{6}\n",
    "        \\label{IntPond}\n",
    "    \\end{equation}\n",
    "    $$\n",
    "    Dónde $w(x)$ es una función arbitraria. Cabe destacar que <i>la solución exacta se cumple para cualquier función arbitraria</i>.\n",
    "</div>\n",
    "\n",
    "<br>\n",
    "\n",
    "<div align=\"justify\">\n",
    "    Una forma \"peculiar\" de la Ecuación \\ref{IntPond} es:\n",
    "    $$\n",
    "    \\begin{equation}\n",
    "        \\int _0 ^L w^e \\left(K \\frac{\\partial ^2 T}{\\partial x ^2} + Q \\right) \\partial x = 0\n",
    "        \\tag{7}\n",
    "        \\label{IntPec}\n",
    "    \\end{equation}\n",
    "    $$\n",
    "    Dónde $w^e (x)$ es una función polinómica a trozos.\n",
    "</div>\n",
    "\n",
    "<br>\n",
    "\n",
    "<div align=\"justify\">\n",
    "    Entre más nodos se usen, $w^e$ tenderá a ser $w$. La clave está en encontrar una función arbitraria que satisfaga la <i>función de forma</i>.\n",
    "</div>\n",
    "\n",
    "<img src=\"Images/Gráficas/w.PNG\" style=\"width: 800px;\" />\n",
    "<center><i>Figura 6.</i> Función arbitraria.</center>\n",
    "\n",
    "### ¿Cómo encontrar las temperaturas nodales?\n",
    "\n",
    "<div align=\"justify\">\n",
    "    Cada ecuación relaciona la temperatura nodal con sus vecinos (ver Figura 4). Para solucionar la Ecuación \\ref{IntPec}, se desarrolla <a href =\"https://es.wikipedia.org/wiki/M%C3%A9todos_de_integraci%C3%B3n#M%C3%A9todo_de_integraci%C3%B3n_por_partes\"><i>integración por partes</i></a> $\\left( \\int u dv = uv - \\int v du \\right)$.\n",
    "    $$\n",
    "    \\begin{equation}\n",
    "        w^e K \\frac{\\partial T}{\\partial x} \\Big| _0 ^L  - K \\int _0 ^L \\frac{\\partial w^e}{\\partial x} \\frac{\\partial T}{\\partial x} \\partial x + \\int _0 ^L w^e Q \\partial x = 0\n",
    "        \\tag{8}\n",
    "        \\label{EcNum}\n",
    "    \\end{equation}\n",
    "    $$\n",
    "    La Ecuación \\ref{EcNum} se conoce como la <i>forma débil</i> de la ecuación diferencial original.\n",
    "</div>\n",
    "\n",
    "<br>\n",
    "\n",
    "<div align=\"justify\">\n",
    "    A continuación, se desarrolla un análisis por términos de la Ecuación \\ref{EcNum}.\n",
    "    <ol>\n",
    "        <li> El primer término, permite observar si se cumple la ley de la conservación de la energía.\n",
    "            $$\n",
    "                w^e K \\frac{\\partial T}{\\partial x} \\Big| _0 ^L = K \\left[ w_4 \\left( \\frac{\\partial T}{\\partial x} \\right) _4 - w_1 \\left( \\frac{\\partial T}{\\partial x} \\right) _1 \\right]\n",
    "            $$\n",
    "        </li>\n",
    "        <li> El segundo término compete al desarrollo de la matriz de rigidez (Ecuación \\ref{EcGeneral}).\n",
    "        </li>\n",
    "        <li>El tercer término corresponde al <i>\"término fuente\"</i>. La integración se realiza <u>elemento por elemento</u> (ver Figuras 6 y 7).\n",
    "            $$\n",
    "                \\int _0 ^L w^e Q \\partial x = Q \\sum _{i=0} ^{n} \\int _{i \\Delta x} ^{\\left(i+1 \\right) \\Delta x} w^e \\partial x\n",
    "            $$\n",
    "            Dónde $n=\\# Elementos$. Por ejemplo: para el primer elemento...\n",
    "            $$\n",
    "              Q \\int _0 ^{\\Delta x} w^e \\partial x = Q \\frac{\\left(w_1 + w_2 \\right) \\Delta x}{2}\n",
    "            $$\n",
    "            <img src=\"Images/Esquema/part.PNG\" style=\"width: 800px;\" />\n",
    "            \n",
    "<center><i>Figura 7.</i> Distribución de energía por elemento.</center>\n",
    "        </li>\n",
    "    </ol>\n",
    "</div>"
   ]
  },
  {
   "cell_type": "code",
   "execution_count": null,
   "metadata": {},
   "outputs": [],
   "source": []
  }
 ],
 "metadata": {
  "kernelspec": {
   "display_name": "Python 3",
   "language": "python",
   "name": "python3"
  },
  "language_info": {
   "codemirror_mode": {
    "name": "ipython",
    "version": 3
   },
   "file_extension": ".py",
   "mimetype": "text/x-python",
   "name": "python",
   "nbconvert_exporter": "python",
   "pygments_lexer": "ipython3",
   "version": "3.6.8"
  }
 },
 "nbformat": 4,
 "nbformat_minor": 4
}
