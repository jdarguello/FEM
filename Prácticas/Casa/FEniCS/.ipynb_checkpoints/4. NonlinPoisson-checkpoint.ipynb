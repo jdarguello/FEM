{
 "cells": [
  {
   "cell_type": "markdown",
   "metadata": {},
   "source": [
    "<h1 align=\"center\"><strong>Ecuación de Poisson no lineal</strong></h1>\n",
    "\n",
    "<div align=\"justify\">\n",
    "    Para resolver una ecuación no lineal en FEniCS, se debe convertir la ecuación diferencial gobernante a la forma débil del problema varaicional. Para este ejemplo, se toma la siguiente ecuación no lineal.\n",
    "    $$\n",
    "    \\begin{equation}\n",
    "        -\\nabla \\cdot \\left(q(u) \\nabla u \\right) = f\n",
    "        \\tag{1}\n",
    "        \\label{poisson}\n",
    "    \\end{equation}\n",
    "    $$\n",
    "    Con $u=u_D$ como condición de frontera en $\\partial \\Omega$. El coeficiente $q=q(u)$ hace de la Ecuación \\ref{poisson} un sistema no lineal (a menos que $q(u)$ sea constante en $u$).\n",
    "</div>\n",
    "\n",
    "## __Formulación Variacional__\n",
    "\n",
    "<div align=\"justify\">\n",
    "    Al igual que en ecuaciones lineales, se inicia multiplicando la ecuación diferencial parcial por una función de prueba $v \\in \\hat{V}$, luego se integra sobre el dominio e integración de segundo orden por partes. La frontera integral desaparece por la integración por partes en donde se evalúe la condición de frontera tipo Dirichlet. El problema variacional resultante es:\n",
    "    $$\n",
    "    \\begin{equation}\n",
    "        F(u;v) = 0 \\, \\, \\,\\, \\forall \\, v \\in \\hat{V}\n",
    "        \\tag{2}\n",
    "        \\label{f}\n",
    "    \\end{equation}\n",
    "    $$\n",
    "    Dónde\n",
    "    $$\n",
    "    \\begin{equation}\n",
    "        F(u;v) = \\int _{\\Omega} \\left(q(u)\\nabla u \\cdot \\nabla v -fv \\right) \\, dx\n",
    "        \\tag{3}\n",
    "        \\label{freload}\n",
    "    \\end{equation}\n",
    "    $$\n",
    "    Y\n",
    "    $$\n",
    "    \\begin{equation}\n",
    "        V = \\lbrace{v \\in H^1 \\left(\\Omega \\right): v=v_D \\, \\text{sobre} \\, \\partial \\Omega \\rbrace}, \\\\\n",
    "        \\hat{V} = \\lbrace{v \\in H^1 \\left(\\Omega \\right): v=0 \\, \\text{sobre} \\, \\partial \\Omega \\rbrace}\n",
    "        \\tag{4}\n",
    "        \\label{V}\n",
    "    \\end{equation}\n",
    "    $$\n",
    "    Con $u=\\sum _{j=1} ^N U_j \\phi _j$. Por ser $F$ un problema variacional <strong>no lineal</strong>, se termina obteniendo un sistema algebraico no lineal de ecuaciones con términos desconocidos $U_1, \\dots , U_N$.\n",
    "</div>\n",
    "\n",
    "### Problema de prueba\n",
    "\n",
    "<div align=\"justify\">\n",
    "    Para resolver un problema de este tipo, se requiere conocer:\n",
    "</div>\n",
    "\n",
    "* $f \\rightarrow \\, \\text{Término fuente}$\n",
    "* $q(u)$\n",
    "* $u_D\\rightarrow \\, \\text{Condición de frontera}$\n",
    "\n",
    "<div align=\"justify\">\n",
    "    En problemas lineales, se implementaban aproximacioes de error para reproducir la solución. En problemas no lineales, el álgebra es más compleja. Para simplificar el proceso de cálculo, se usará Sympy con el solver de FEniCS.\n",
    "</div>"
   ]
  },
  {
   "cell_type": "code",
   "execution_count": 3,
   "metadata": {},
   "outputs": [
    {
     "name": "stdout",
     "output_type": "stream",
     "text": [
      "u = x[0] + 2*x[1] + 1\n",
      "f = -10*x[0] - 20*x[1] - 10\n"
     ]
    }
   ],
   "source": [
    "from fenics import *\n",
    "import sympy as sym\n",
    "\n",
    "def q(u):\n",
    "    \"Return nonlinear coefficient\"\n",
    "    return 1 + u**2\n",
    "x, y = sym.symbols('x[0], x[1]')\n",
    "u = 1 + x + 2*y\n",
    "f = - sym.diff(q(u)*sym.diff(u, x), x) - sym.diff(q(u)*sym.diff(u, y), y)\n",
    "f = sym.simplify(f)\n",
    "u_code = sym.printing.ccode(u)\n",
    "f_code = sym.printing.ccode(f)\n",
    "print('u =', u_code)\n",
    "print('f =', f_code)"
   ]
  },
  {
   "cell_type": "markdown",
   "metadata": {},
   "source": [
    "El solver de FEniCS para problemas _no lineales_, establece que:\n",
    "\n",
    "```Python\n",
    "solve(F == 0, u, bc)\n",
    "```\n",
    "\n",
    "En lugar de:\n",
    "\n",
    "```Python\n",
    "solve(a == L, u, bc)\n",
    "```"
   ]
  },
  {
   "cell_type": "code",
   "execution_count": 4,
   "metadata": {},
   "outputs": [
    {
     "data": {
      "image/png": "[encoded data removed]",
      "text/plain": [
       "<Figure size 432x288 with 1 Axes>"
      ]
     },
     "metadata": {
      "needs_background": "light"
     },
     "output_type": "display_data"
    }
   ],
   "source": [
    "# Create mesh and define function space\n",
    "mesh = UnitSquareMesh(8, 8)\n",
    "V = FunctionSpace(mesh, 'P', 1)\n",
    "\n",
    "# Define boundary condition\n",
    "u_D = Expression(u_code, degree=2)\n",
    "\n",
    "def boundary(x, on_boundary):\n",
    "    return on_boundary\n",
    "\n",
    "bc = DirichletBC(V, u_D, boundary)\n",
    "\n",
    "# Define variational problem\n",
    "u = Function(V)  # Note: not TrialFunction!\n",
    "v = TestFunction(V)\n",
    "f = Expression(f_code, degree=2)\n",
    "F = q(u)*dot(grad(u), grad(v))*dx - f*v*dx\n",
    "\n",
    "# Compute solution\n",
    "solve(F == 0, u, bc)\n",
    "\n",
    "# Plot solution\n",
    "plot(u)\n",
    "\n",
    "# Compute maximum error at vertices. This computation illustrates\n",
    "# an alternative to using compute_vertex_values as in poisson.py.\n",
    "u_e = interpolate(u_D, V)\n",
    "import numpy as np\n",
    "#error_max = np.abs(u_e.vector().array() - u.vector().array()).max()\n",
    "#print('error_max = ', error_max)\n",
    "\n",
    "# Hold plot\n",
    "#interactive()\n",
    "\n"
   ]
  }
 ],
 "metadata": {
  "kernelspec": {
   "display_name": "Python 3",
   "language": "python",
   "name": "python3"
  },
  "language_info": {
   "codemirror_mode": {
    "name": "ipython",
    "version": 3
   },
   "file_extension": ".py",
   "mimetype": "text/x-python",
   "name": "python",
   "nbconvert_exporter": "python",
   "pygments_lexer": "ipython3",
   "version": "3.6.8"
  }
 },
 "nbformat": 4,
 "nbformat_minor": 4
}
