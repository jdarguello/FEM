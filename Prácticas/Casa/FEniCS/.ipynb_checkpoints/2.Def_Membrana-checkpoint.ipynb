{
 "cells": [
  {
   "cell_type": "markdown",
   "metadata": {},
   "source": [
    "<h1 align=\"center\"><strong>Deflexión de una membrana</strong></h1>\n",
    "\n",
    "<div align=\"justify\">\n",
    "    Se busca evaluar la deflexión bidimensional $D(x,y)$ de una membrana circular, de radio $R$, sujeta  a una carga $p$ sobre la membrana. El modelo matemático que describe este comportamiento se puede apreciar en la Ecuación \\ref{PDE}.\n",
    "    <br>\n",
    "    <br>\n",
    "    $$\n",
    "    \\begin{equation}\n",
    "        -T \\nabla ^2 D = p \\, \\, \\, \\, \\text{en} \\, \\, \\Omega = \\lbrace{(x,y) | x^2 + y^2 \\leq R \\rbrace}\n",
    "        \\tag{1}\n",
    "        \\label{PDE}\n",
    "    \\end{equation}\n",
    "    $$\n",
    "    <br>\n",
    "    Dónde: $T$ es la tensión sobre la membrana (constante) y $p$ es la carga de presión externa. Sobre la frontera, la membrana no está deflectada $(D=0)$. La carga se puede modelar como una función Gaussiana:\n",
    "    <br>\n",
    "    <br>\n",
    "    $$\n",
    "    \\begin{equation}\n",
    "        p(x,y) = \\frac{A}{2\\pi \\sigma} exp\\left(-\\frac{1}{2} \\left(\\frac{x-x_0}{\\sigma} \\right)^2 -\\frac{1}{2} \\left(\\frac{y-y_0}{\\sigma} \\right)^2  \\right)\n",
    "        \\tag{2}\n",
    "        \\label{p}\n",
    "    \\end{equation}\n",
    "    $$\n",
    "    <br>\n",
    "    De la Ecuación \\ref{p}, $A$ es la amplitud de la presión, $(x_0, y_0)$ es el punto donde la carga $p$ es máxima, y $\\sigma$ es la \"profundidad\" de $p$. \n",
    "</div>\n",
    "\n",
    "## __Planteamiento adimensional__\n",
    "\n",
    "<div align=\"justify\">\n",
    "    Este tipo de planteamiento facilita la escalabilidad del proceso. Los parámetros adimensionales planteados:\n",
    "</div>\n",
    "\n",
    "* _Coordenadas adimensionales:_ $\\bar{x} = x/R$ y $\\bar{y} = y/R$.\n",
    "* _Deflexión adimensional:_ $w = D/D_c$, dónde $D_c$ es el tamaño característico de la deflexión.\n",
    "* _Relación radial:_ $\\bar{R_0} = R_0/R$.\n",
    "\n",
    "<div align=\"justify\">\n",
    "    Se obtiene lo siguiente:\n",
    "    $$\n",
    "    \\begin{equation}\n",
    "        -\\frac{\\partial ^2 w}{\\partial \\bar{x}^2}-\\frac{\\partial ^2 w}{\\partial \\bar{y}^2} = \\alpha \\, exp\\left(-\\beta ^2 \\left(\\bar{x}^2 + \\left(\\bar{y} - \\bar{R_0} \\right)^2 \\right) \\right) \\, \\, \\text{para} \\, \\bar{x}^2+\\bar{y}^2 < 1\n",
    "        \\tag{3}\n",
    "        \\label{ad}\n",
    "    \\end{equation}\n",
    "    $$\n",
    "    Dónde:\n",
    "    $$\n",
    "    \\begin{equation}\n",
    "        \\alpha = \\frac{R^2A}{2\\pi TD_c\\sigma} \\, , \\, \\beta = \\frac{R}{\\sqrt{2}\\sigma}\n",
    "    \\end{equation}\n",
    "    $$\n",
    "    El problema escalado se expresa matemáticamente de la siguiente forma $(\\alpha=4)$:\n",
    "    <br>\n",
    "    <br>\n",
    "    $$\n",
    "    \\begin{equation}\n",
    "        -\\nabla ^2 w = 4 \\, exp\\left(-\\beta ^2 \\left(x^2 + \\left(y-R_0 \\right)^2 \\right) \\right)\n",
    "        \\tag{4}\n",
    "        \\label{scaled}\n",
    "    \\end{equation}\n",
    "    $$\n",
    "    <br>\n",
    "    Para ser resuelto sobre el disco unitario con $w=0$ sobre la frontera. Hay dos parámetros a variar: la presión adimensional, $\\beta$, y el pico de presión localizado, $R_0 \\in [0,1]$. Como $\\beta \\rightarrow 0$, la solución se acerca al caso especial de $w = 1-x^2-y^2$. Dada una solución escalada $w$, la deflexión física se puede calcular mediante la Ecuación \\ref{def}.\n",
    "    <br>\n",
    "    <br>\n",
    "    $$\n",
    "    \\begin{equation}\n",
    "        D = \\frac{AR^2}{8\\pi \\sigma T}w\n",
    "        \\tag{5}\n",
    "        \\label{def}\n",
    "    \\end{equation}\n",
    "    $$\n",
    "</div>"
   ]
  },
  {
   "cell_type": "code",
   "execution_count": 3,
   "metadata": {},
   "outputs": [
    {
     "name": "stdout",
     "output_type": "stream",
     "text": [
      "error_L2 =  0.02603555374072317\n",
      "error_max =  0.06005503703955702\n"
     ]
    },
    {
     "data": {
      "image/png": "[encoded data removed]",
      "text/plain": [
       "<Figure size 432x288 with 1 Axes>"
      ]
     },
     "metadata": {
      "needs_background": "light"
     },
     "output_type": "display_data"
    }
   ],
   "source": [
    "%matplotlib inline\n",
    "from fenics import *\n",
    "from mshr import *\n",
    "import numpy as np\n",
    "\n",
    "#Creación de malla y definición del espacio\n",
    "domain = Circle(Point(0,0),1)\n",
    "mesh = generate_mesh(domain, 64)\n",
    "V = FunctionSpace(mesh, 'P', 1)\n",
    "\n",
    "#Definición de las cargas\n",
    "beta = 8\n",
    "R0 = 0.6\n",
    "p = Expression('4*exp(-pow(beta,2)*(pow(x[0],2) + pow(x[1]-R0,2)))', \n",
    "               degree=1, beta=beta, R0=R0)    #x[0], x[1], x[2] son: x,y,z\n",
    "\n",
    "#Condiciones de frontera\n",
    "w_D = Constant(0)\n",
    "\n",
    "def boundary(x, on_boundary):\n",
    "    #Retorna True si el punto x está en la condición de frontera.\n",
    "    return on_boundary\n",
    "\n",
    "bc = DirichletBC(V, w_D, boundary) \n",
    "\n",
    "#Definición del problema variacional\n",
    "w = TrialFunction(V)\n",
    "v = TestFunction(V)\n",
    "a = dot(grad(w), grad(v))*dx  #Especifica la PDE a resolver  \n",
    "L = p*v*dx\n",
    "\n",
    "#Computación de soluciones\n",
    "w = Function(V)    #Se redefine la variable u (reemplaza su significado)\n",
    "solve(a == L, w, bc)\n",
    "\n",
    "#Graficar solución y malla\n",
    "p = interpolate(p, V)\n",
    "plot(w, title=\"Deflection\")\n",
    "#plot(p, title=\"Carga\")\n",
    "#plot(mesh)\n",
    "\n",
    "#Guardar solución en un archivo formato VTK\n",
    "vtkfile_w = File('poisson_membrane/deflection.pvd')\n",
    "vtkfile_w << w\n",
    "vtkfile_p = File('poisson_membrane/load.pvd')\n",
    "vtkfile_p << p\n",
    "\n",
    "#Computación de error en normativa L2\n",
    "error_L2 = errornorm(w_D, w, 'L2')\n",
    "\n",
    "#Computación máxima del error en los vértices\n",
    "vertex_values_w_D = w_D.compute_vertex_values(mesh)\n",
    "vertex_values_w = w.compute_vertex_values(mesh)\n",
    "error_max = np.max(np.abs(vertex_values_w_D - vertex_values_w))\n",
    "\n",
    "#Impresión de errores\n",
    "print('error_L2 = ', error_L2)\n",
    "print('error_max = ', error_max)\n",
    "\n",
    "#Mantener la gráfica\n",
    "#interactive()"
   ]
  },
  {
   "cell_type": "code",
   "execution_count": 2,
   "metadata": {},
   "outputs": [
    {
     "data": {
      "image/png": "[encoded data removed]",
      "text/plain": [
       "<Figure size 432x288 with 1 Axes>"
      ]
     },
     "metadata": {
      "needs_background": "light"
     },
     "output_type": "display_data"
    }
   ],
   "source": [
    "#Curva gráfica sobre x = 0. Comparación entre p y w\n",
    "import numpy as np\n",
    "import matplotlib.pyplot as plt\n",
    "tol = 0.001   #Evita colisión de puntos por fuera del dominio\n",
    "y = np.linspace(-1+tol, 1-tol, 101)\n",
    "points = [(0,y_) for y_ in y]    #puntos 2D\n",
    "w_line = np.array([w(point) for point in points])\n",
    "p_line = np.array([p(point) for point in points])\n",
    "plt.plot(y, 50*w_line, 'k', linewidth=2)    #Escala w 50 veces\n",
    "plt.plot(y, p_line, 'b--', linewidth=2)\n",
    "plt.grid(True)\n",
    "plt.xlabel(\"$y$\")\n",
    "plt.legend([\"Deflexión ($\\\\ 50 veces$)\", \"Carga\"], loc=\"upper left\")\n",
    "plt.savefig(\"poisson_membrane/curves.pdf\")\n",
    "plt.savefig(\"poisson_membrane/curves.png\")"
   ]
  }
 ],
 "metadata": {
  "kernelspec": {
   "display_name": "Python 3",
   "language": "python",
   "name": "python3"
  },
  "language_info": {
   "codemirror_mode": {
    "name": "ipython",
    "version": 3
   },
   "file_extension": ".py",
   "mimetype": "text/x-python",
   "name": "python",
   "nbconvert_exporter": "python",
   "pygments_lexer": "ipython3",
   "version": "3.6.8"
  }
 },
 "nbformat": 4,
 "nbformat_minor": 4
}
