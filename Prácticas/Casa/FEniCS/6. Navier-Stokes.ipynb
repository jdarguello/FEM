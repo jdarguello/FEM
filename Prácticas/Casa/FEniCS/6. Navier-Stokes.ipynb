{
 "cells": [
  {
   "cell_type": "markdown",
   "metadata": {},
   "source": [
    "<h1 align=\"center\"><strong>Ecuaciones de Navier-Stokes</strong></h1>\n",
    "\n",
    "<div align=\"justify\">\n",
    "    Las ecuaciones de Navier-Stokes para flujo incompresible formado por las ecuaciones de velocidad $u$ y presión $p$ se pueden apreciar en la Ecuación \\ref{stokes}.\n",
    "    $$\n",
    "    \\begin{equation}\n",
    "        \\rho \\left(\\frac{\\partial u}{\\partial t} + u \\cdot \\nabla u \\right) = \\nabla \\cdot \\sigma (u,p) +f, \\\\\n",
    "        \\nabla \\cdot u = 0\n",
    "        \\tag{1}\n",
    "        \\label{stokes}\n",
    "    \\end{equation}\n",
    "    $$\n",
    "</div>"
   ]
  }
 ],
 "metadata": {
  "kernelspec": {
   "display_name": "Python 3",
   "language": "python",
   "name": "python3"
  },
  "language_info": {
   "codemirror_mode": {
    "name": "ipython",
    "version": 3
   },
   "file_extension": ".py",
   "mimetype": "text/x-python",
   "name": "python",
   "nbconvert_exporter": "python",
   "pygments_lexer": "ipython3",
   "version": "3.6.8"
  }
 },
 "nbformat": 4,
 "nbformat_minor": 4
}
