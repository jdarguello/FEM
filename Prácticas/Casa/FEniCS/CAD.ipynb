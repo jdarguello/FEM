{
 "cells": [
  {
   "cell_type": "markdown",
   "metadata": {},
   "source": [
    "<h1 align=\"center\"><strong>STL</strong></h1>\n",
    "\n",
    "## __Creación de geometría CAD__\n",
    "\n",
    "### 1. numpy-stl\n",
    "<div align=\"justify\">\n",
    "    El siguiente algoritmo permite crear un cubo.\n",
    "</div>"
   ]
  },
  {
   "cell_type": "code",
   "execution_count": null,
   "metadata": {},
   "outputs": [],
   "source": [
    "import numpy as np\n",
    "from stl import mesh\n",
    "\n",
    "# Define the 8 vertices of the cube\n",
    "vertices = np.array([\\\n",
    "    [-1, -1, -1],\n",
    "    [+1, -1, -1],\n",
    "    [+1, +1, -1],\n",
    "    [-1, +1, -1],\n",
    "    [-1, -1, +1],\n",
    "    [+1, -1, +1],\n",
    "    [+1, +1, +1],\n",
    "    [-1, +1, +1]])\n",
    "# Define the 12 triangles composing the cube\n",
    "faces = np.array([\\\n",
    "    [0,3,1],\n",
    "    [1,3,2],\n",
    "    [0,4,7],\n",
    "    [0,7,3],\n",
    "    [4,5,6],\n",
    "    [4,6,7],\n",
    "    [5,1,2],\n",
    "    [5,2,6],\n",
    "    [2,3,6],\n",
    "    [3,7,6],\n",
    "    [0,1,5],\n",
    "    [0,5,4]])\n",
    "\n",
    "# Create the mesh\n",
    "cube = mesh.Mesh(np.zeros(faces.shape[0], dtype=mesh.Mesh.dtype))\n",
    "for i, f in enumerate(faces):\n",
    "    for j in range(3):\n",
    "        cube.vectors[i][j] = vertices[f[j],:]\n",
    "\n",
    "# Write the mesh to file \"cube.stl\"\n",
    "cube.save('cube.stl')"
   ]
  },
  {
   "cell_type": "markdown",
   "metadata": {},
   "source": [
    "### 2. ViewsCAD\n",
    "\n",
    "<div align=\"justify\">\n",
    "    Creación de un cilindro...\n",
    "</div>"
   ]
  },
  {
   "cell_type": "code",
   "execution_count": null,
   "metadata": {},
   "outputs": [],
   "source": [
    "import viewscad\n",
    "from solid import *\n",
    "r = viewscad.Renderer()\n",
    "r.render_stl?\n",
    "r.render_stl('cil.stl')"
   ]
  },
  {
   "cell_type": "code",
   "execution_count": 13,
   "metadata": {},
   "outputs": [
    {
     "data": {
      "application/vnd.jupyter.widget-view+json": {
       "model_id": "a122cffbee124f0dba759b7e3eb625dc",
       "version_major": 2,
       "version_minor": 0
      },
      "text/plain": [
       "VBox(children=(HTML(value=''), Renderer(background='#cccc88', background_opacity=0.0, camera=PerspectiveCamera…"
      ]
     },
     "metadata": {},
     "output_type": "display_data"
    }
   ],
   "source": [
    "import viewscad\n",
    "from solid import *\n",
    "r = viewscad.Renderer()\n",
    "c = cube(10)\n",
    "r.render(c, outfile='cil.stl')"
   ]
  },
  {
   "cell_type": "code",
   "execution_count": null,
   "metadata": {},
   "outputs": [],
   "source": [
    "import viewscad\n",
    "from solid import *\n",
    "r = viewscad.Renderer()\n",
    "#c = cylinder(r=5, h=2)\n",
    "c = cylinder(r=10, h=5) + cylinder(r=2, h=30)\n",
    "#b = box(2,4,6)\n",
    "r.render(c, outfile='cil.stl')"
   ]
  },
  {
   "cell_type": "code",
   "execution_count": null,
   "metadata": {},
   "outputs": [],
   "source": [
    "import numpy as np\n",
    "import viewscad\n",
    "from solid import *\n",
    "r = viewscad.Renderer()\n",
    "\n",
    "points=np.array([[0,0,0], [1,0,0],[0.5,0.5*np.sqrt(3), 0], [0.5, 0.5/np.sqrt(3), np.sqrt(2./3)]])\n",
    "def tetra():\n",
    "    return polyhedron(points=points, faces=[[0,1,2], [0,3,1], [0,2,3], [1,3,2]])\n",
    "\n",
    "def sierpinski(depth, size):\n",
    "    if depth == 0:\n",
    "        return scale(size) (tetra())\n",
    "    else:\n",
    "        obj = None\n",
    "        for point in points:\n",
    "            o = translate(size/2*point) (sierpinski(depth-1, size/2))\n",
    "            if obj is None: obj = o\n",
    "            else: obj += o\n",
    "        \n",
    "        return obj\n",
    "    \n",
    "r.render(sierpinski(3, 1.))\n",
    "#r.render(tetra())"
   ]
  },
  {
   "cell_type": "markdown",
   "metadata": {},
   "source": [
    "## __Mallado__\n",
    "\n",
    "<div align=\"justify\">\n",
    "    Con la generación del achivo .stl, se puede desarrollar el mallado de la pieza CAD.\n",
    "</div>\n",
    "\n",
    "### NetGen"
   ]
  },
  {
   "cell_type": "code",
   "execution_count": null,
   "metadata": {},
   "outputs": [],
   "source": [
    "import netgen.gui\n",
    "%gui tk\n",
    "\n",
    "#from netgen import NgOCC as ng\n",
    "#geo = ng.LoadOCCGeometry(\"cil.stl\")\n"
   ]
  },
  {
   "cell_type": "code",
   "execution_count": null,
   "metadata": {},
   "outputs": [],
   "source": [
    "from ngsolve import *\n",
    "from netgen.geom2d import unit_square\n",
    "import netgen.gui\n",
    "%gui tk\n",
    "\n",
    "from netgen.occ import *\n",
    "geo = OCCGeometry(\"Seeder.iges\")\n",
    "#msh = geo.GenerateMesh()\n"
   ]
  }
 ],
 "metadata": {
  "kernelspec": {
   "display_name": "Python 3",
   "language": "python",
   "name": "python3"
  },
  "language_info": {
   "codemirror_mode": {
    "name": "ipython",
    "version": 3
   },
   "file_extension": ".py",
   "mimetype": "text/x-python",
   "name": "python",
   "nbconvert_exporter": "python",
   "pygments_lexer": "ipython3",
   "version": "3.6.8"
  }
 },
 "nbformat": 4,
 "nbformat_minor": 4
}
