{
 "cells": [
  {
   "cell_type": "markdown",
   "metadata": {},
   "source": [
    "<div align=\"center\">\n",
    "    <h1><strong>Análisis Modal 2D</strong></h1>\n",
    "    <h2>Juan David Argüello Plata</h2>\n",
    "    <img src=\"Images/uis.png\" style=\"width: 300px;\" />\n",
    "</div>\n",
    "\n",
    "## __1. Planteamiento del Problema__\n",
    "\n",
    "<div align=\"justify\">\n",
    "    Se busca analizar, mediante métodos <i>analíticos</i> y <i>numéricos</i>, el comportamiento modal de la barra mostrada en la Figura 1.\n",
    "</div>\n",
    "\n",
    "<br>\n",
    "\n",
    "<div align=\"center\">\n",
    "    <img src=\"Images/Esquema/Esquema.png\" style=\"width: 500px;\" />\n",
    "</div>\n",
    "\n",
    "<div align=\"center\">\n",
    "    <i>Figura 1.</i> Geometría del problema.\n",
    "</div>\n",
    "\n",
    "<div align=\"justify\">\n",
    "    Los propiedades del material se pueden especificar a continuación.\n",
    "</div>"
   ]
  },
  {
   "cell_type": "code",
   "execution_count": 5,
   "metadata": {},
   "outputs": [
    {
     "data": {
      "text/html": [
       "$a= 10\\left[m\\right]$"
      ],
      "text/plain": [
       "<IPython.core.display.HTML object>"
      ]
     },
     "metadata": {},
     "output_type": "display_data"
    },
    {
     "data": {
      "text/html": [
       "$r= 2\\left[m\\right]$"
      ],
      "text/plain": [
       "<IPython.core.display.HTML object>"
      ]
     },
     "metadata": {},
     "output_type": "display_data"
    },
    {
     "data": {
      "text/html": [
       "$h= 10\\left[m\\right]$"
      ],
      "text/plain": [
       "<IPython.core.display.HTML object>"
      ]
     },
     "metadata": {},
     "output_type": "display_data"
    },
    {
     "data": {
      "text/html": [
       "$E= 200000000.0\\left[MPa\\right]$"
      ],
      "text/plain": [
       "<IPython.core.display.HTML object>"
      ]
     },
     "metadata": {},
     "output_type": "display_data"
    },
    {
     "data": {
      "text/html": [
       "$v= 0.3$"
      ],
      "text/plain": [
       "<IPython.core.display.HTML object>"
      ]
     },
     "metadata": {},
     "output_type": "display_data"
    }
   ],
   "source": [
    "data = {\n",
    "    'Geometría': {\n",
    "        'a': {\n",
    "            'Valor':10,\n",
    "            'Units': 'm'\n",
    "        },\n",
    "        'h': {\n",
    "            'Valor': 10,\n",
    "            'Units': 'm'\n",
    "        },\n",
    "        'r': {\n",
    "            'Valor': 2,\n",
    "            'Units': 'm'\n",
    "        }\n",
    "    },\n",
    "    'Propiedades': {\n",
    "        'E': {\n",
    "            'Valor': 200E6,\n",
    "            'Units': 'MPa'\n",
    "        },\n",
    "        'v': {\n",
    "            'Valor': 0.3,\n",
    "            'Units': ''\n",
    "        }\n",
    "    }\n",
    "}\n",
    "\n",
    "from IPython.display import HTML, display\n",
    "for c in data:\n",
    "    for d in data[c]: \n",
    "        if d != 'v':\n",
    "            text = '$' + d + '= ' + str(data[c][d]['Valor']) + '\\left[' + data[c][d]['Units'] + '\\\\right]$'\n",
    "        else:\n",
    "            text = '$' + d + '= ' + str(data[c][d]['Valor']) + '' + data[c][d]['Units'] + '$'\n",
    "        display(HTML(text))"
   ]
  },
  {
   "cell_type": "markdown",
   "metadata": {},
   "source": [
    "## __2. Solución Analítica__\n",
    "\n",
    "<div align=\"justify\">\n",
    "    El problema\n",
    "</div>"
   ]
  },
  {
   "cell_type": "markdown",
   "metadata": {},
   "source": [
    "## __3. Solución Numérica__\n",
    "\n",
    "<div align=\"justify\">\n",
    "    La geomtería dada es la siguiente:\n",
    "</div>"
   ]
  },
  {
   "cell_type": "code",
   "execution_count": 2,
   "metadata": {},
   "outputs": [
    {
     "data": {
      "image/png": "[encoded data removed]",
      "text/plain": [
       "<Figure size 432x443.444 with 1 Axes>"
      ]
     },
     "metadata": {
      "needs_background": "light"
     },
     "output_type": "display_data"
    },
    {
     "data": {
      "text/plain": [
       "<App.Preprocessing.Geometry.Geo at 0x7f4d20177048>"
      ]
     },
     "execution_count": 2,
     "metadata": {},
     "output_type": "execute_result"
    }
   ],
   "source": [
    "%matplotlib inline\n",
    "from App.Preprocessing.Geometry import *\n",
    "Geo(data['Geometría'])"
   ]
  },
  {
   "cell_type": "markdown",
   "metadata": {},
   "source": [
    "<div align=\"justify\">\n",
    "    Se inicia realizando la discretización del dominio.\n",
    "</div>"
   ]
  },
  {
   "cell_type": "code",
   "execution_count": 2,
   "metadata": {},
   "outputs": [
    {
     "ename": "ImportError",
     "evalue": "cannot import name 'Malla' from 'App.Preprocessing.Mesh' (unknown location)",
     "output_type": "error",
     "traceback": [
      "\u001b[1;31m---------------------------------------------------------------------------\u001b[0m",
      "\u001b[1;31mImportError\u001b[0m                               Traceback (most recent call last)",
      "\u001b[1;32m<ipython-input-2-87e0fb70bdcc>\u001b[0m in \u001b[0;36m<module>\u001b[1;34m\u001b[0m\n\u001b[1;32m----> 1\u001b[1;33m \u001b[1;32mfrom\u001b[0m \u001b[0mApp\u001b[0m\u001b[1;33m.\u001b[0m\u001b[0mPreprocessing\u001b[0m\u001b[1;33m.\u001b[0m\u001b[0mMesh\u001b[0m \u001b[1;32mimport\u001b[0m \u001b[0mMalla\u001b[0m\u001b[1;33m\u001b[0m\u001b[1;33m\u001b[0m\u001b[0m\n\u001b[0m",
      "\u001b[1;31mImportError\u001b[0m: cannot import name 'Malla' from 'App.Preprocessing.Mesh' (unknown location)"
     ]
    }
   ],
   "source": [
    "from App.Preprocessing.Mesh import Malla\n"
   ]
  },
  {
   "cell_type": "code",
   "execution_count": 3,
   "metadata": {},
   "outputs": [],
   "source": [
    "import numpy\n",
    "from stl import mesh\n",
    "\n",
    "# Or creating a new mesh (make sure not to overwrite the `mesh` import by\n",
    "# naming it `mesh`):\n",
    "VERTICE_COUNT = 100\n",
    "data = numpy.zeros(VERTICE_COUNT, dtype=mesh.Mesh.dtype)\n",
    "your_mesh = mesh.Mesh(data, remove_empty_areas=False)\n",
    "\n",
    "# The mesh normals (calculated automatically)\n",
    "your_mesh.normals\n",
    "# The mesh vectors\n",
    "your_mesh.v0, your_mesh.v1, your_mesh.v2\n",
    "# Accessing individual points (concatenation of v0, v1 and v2 in triplets)\n",
    "assert (your_mesh.points[0][0:3] == your_mesh.v0[0]).all()\n",
    "assert (your_mesh.points[0][3:6] == your_mesh.v1[0]).all()\n",
    "assert (your_mesh.points[0][6:9] == your_mesh.v2[0]).all()\n",
    "assert (your_mesh.points[1][0:3] == your_mesh.v0[1]).all()\n",
    "\n",
    "your_mesh.save('new_stl_file.stl')"
   ]
  },
  {
   "cell_type": "code",
   "execution_count": 5,
   "metadata": {},
   "outputs": [
    {
     "name": "stderr",
     "output_type": "stream",
     "text": [
      "/home/cfd/.local/lib/python3.5/site-packages/ipykernel_launcher.py:69: DeprecationWarning: Non-string object detected for the array ordering. Please pass in 'C', 'F', 'A', or 'K' instead\n"
     ]
    },
    {
     "data": {
      "image/png": "[encoded data removed]",
      "text/plain": [
       "<Figure size 432x288 with 1 Axes>"
      ]
     },
     "metadata": {
      "needs_background": "light"
     },
     "output_type": "display_data"
    }
   ],
   "source": [
    "from stl import mesh\n",
    "import math\n",
    "import numpy\n",
    "\n",
    "# Create 3 faces of a cube\n",
    "data = numpy.zeros(6, dtype=mesh.Mesh.dtype)\n",
    "\n",
    "# Top of the cube\n",
    "data['vectors'][0] = numpy.array([[0, 1, 1],\n",
    "                                  [1, 0, 1],\n",
    "                                  [0, 0, 1]])\n",
    "data['vectors'][1] = numpy.array([[1, 0, 1],\n",
    "                                  [0, 1, 1],\n",
    "                                  [1, 1, 1]])\n",
    "# Front face\n",
    "data['vectors'][2] = numpy.array([[1, 0, 0],\n",
    "                                  [1, 0, 1],\n",
    "                                  [1, 1, 0]])\n",
    "data['vectors'][3] = numpy.array([[1, 1, 1],\n",
    "                                  [1, 0, 1],\n",
    "                                  [1, 1, 0]])\n",
    "# Left face\n",
    "data['vectors'][4] = numpy.array([[0, 0, 0],\n",
    "                                  [1, 0, 0],\n",
    "                                  [1, 0, 1]])\n",
    "data['vectors'][5] = numpy.array([[0, 0, 0],\n",
    "                                  [0, 0, 1],\n",
    "                                  [1, 0, 1]])\n",
    "\n",
    "# Since the cube faces are from 0 to 1 we can move it to the middle by\n",
    "# substracting .5\n",
    "data['vectors'] -= .5\n",
    "\n",
    "# Generate 4 different meshes so we can rotate them later\n",
    "meshes = [mesh.Mesh(data.copy()) for _ in range(4)]\n",
    "\n",
    "# Rotate 90 degrees over the Y axis\n",
    "meshes[0].rotate([0.0, 0.5, 0.0], math.radians(90))\n",
    "\n",
    "# Translate 2 points over the X axis\n",
    "meshes[1].x += 2\n",
    "\n",
    "# Rotate 90 degrees over the X axis\n",
    "meshes[2].rotate([0.5, 0.0, 0.0], math.radians(90))\n",
    "# Translate 2 points over the X and Y points\n",
    "meshes[2].x += 2\n",
    "meshes[2].y += 2\n",
    "\n",
    "# Rotate 90 degrees over the X and Y axis\n",
    "meshes[3].rotate([0.5, 0.0, 0.0], math.radians(90))\n",
    "meshes[3].rotate([0.0, 0.5, 0.0], math.radians(90))\n",
    "# Translate 2 points over the Y axis\n",
    "meshes[3].y += 2\n",
    "\n",
    "\n",
    "# Optionally render the rotated cube faces\n",
    "from matplotlib import pyplot\n",
    "from mpl_toolkits import mplot3d\n",
    "\n",
    "# Create a new plot\n",
    "figure = pyplot.figure()\n",
    "axes = mplot3d.Axes3D(figure)\n",
    "\n",
    "# Render the cube faces\n",
    "for m in meshes:\n",
    "    axes.add_collection3d(mplot3d.art3d.Poly3DCollection(m.vectors))\n",
    "\n",
    "# Auto scale to the mesh size\n",
    "scale = numpy.concatenate([m.points for m in meshes]).flatten(-1)\n",
    "axes.auto_scale_xyz(scale, scale, scale)\n",
    "\n",
    "# Show the plot to the screen\n",
    "pyplot.show()"
   ]
  }
 ],
 "metadata": {
  "kernelspec": {
   "display_name": "Python 3",
   "language": "python",
   "name": "python3"
  },
  "language_info": {
   "codemirror_mode": {
    "name": "ipython",
    "version": 3
   },
   "file_extension": ".py",
   "mimetype": "text/x-python",
   "name": "python",
   "nbconvert_exporter": "python",
   "pygments_lexer": "ipython3",
   "version": "3.5.2"
  }
 },
 "nbformat": 4,
 "nbformat_minor": 4
}
