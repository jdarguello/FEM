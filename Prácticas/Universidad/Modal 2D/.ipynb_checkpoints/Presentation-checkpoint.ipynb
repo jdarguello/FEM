{
 "cells": [
  {
   "cell_type": "markdown",
   "metadata": {},
   "source": [
    "<div align=\"center\">\n",
    "    <h1><strong>Análisis Modal 2D</strong></h1>\n",
    "    <h2>Juan David Argüello Plata</h2>\n",
    "    <img src=\"Images/uis.png\" style=\"width: 300px;\" />\n",
    "</div>\n",
    "\n",
    "## __1. Planteamiento del Problema__\n",
    "\n",
    "<div align=\"justify\">\n",
    "    Se busca analizar, mediante métodos <i>analíticos</i> y <i>numéricos</i>, el comportamiento modal de la barra mostrada en la Figura 1.\n",
    "</div>\n",
    "\n",
    "<br>\n",
    "\n",
    "<div align=\"center\">\n",
    "    <img src=\"Images/Esquema/Esquema.png\" style=\"width: 500px;\" />\n",
    "</div>\n",
    "\n",
    "<div align=\"center\">\n",
    "    <i>Figura 1.</i> Geometría del problema.\n",
    "</div>\n",
    "\n",
    "<div align=\"justify\">\n",
    "    Los propiedades del material se pueden especificar a continuación.\n",
    "</div>"
   ]
  },
  {
   "cell_type": "code",
   "execution_count": 1,
   "metadata": {},
   "outputs": [
    {
     "data": {
      "text/html": [
       "$a= 10\\left[m\\right]$"
      ],
      "text/plain": [
       "<IPython.core.display.HTML object>"
      ]
     },
     "metadata": {},
     "output_type": "display_data"
    },
    {
     "data": {
      "text/html": [
       "$h= 10\\left[m\\right]$"
      ],
      "text/plain": [
       "<IPython.core.display.HTML object>"
      ]
     },
     "metadata": {},
     "output_type": "display_data"
    },
    {
     "data": {
      "text/html": [
       "$r= 6\\left[m\\right]$"
      ],
      "text/plain": [
       "<IPython.core.display.HTML object>"
      ]
     },
     "metadata": {},
     "output_type": "display_data"
    },
    {
     "data": {
      "text/html": [
       "$E= 200000000.0\\left[MPa\\right]$"
      ],
      "text/plain": [
       "<IPython.core.display.HTML object>"
      ]
     },
     "metadata": {},
     "output_type": "display_data"
    },
    {
     "data": {
      "text/html": [
       "$v= 0.3$"
      ],
      "text/plain": [
       "<IPython.core.display.HTML object>"
      ]
     },
     "metadata": {},
     "output_type": "display_data"
    }
   ],
   "source": [
    "data = {\n",
    "    'Geometría': {\n",
    "        'a': {\n",
    "            'Valor':10,\n",
    "            'Units': 'm'\n",
    "        },\n",
    "        'h': {\n",
    "            'Valor': 10,\n",
    "            'Units': 'm'\n",
    "        },\n",
    "        'r': {\n",
    "            'Valor': 6,\n",
    "            'Units': 'm'\n",
    "        }\n",
    "    },\n",
    "    'Propiedades': {\n",
    "        'E': {\n",
    "            'Valor': 200E6,\n",
    "            'Units': 'MPa'\n",
    "        },\n",
    "        'v': {\n",
    "            'Valor': 0.3,\n",
    "            'Units': ''\n",
    "        }\n",
    "    }\n",
    "}\n",
    "\n",
    "from IPython.display import HTML, display\n",
    "for c in data:\n",
    "    for d in data[c]: \n",
    "        if d != 'v':\n",
    "            text = '$' + d + '= ' + str(data[c][d]['Valor']) + '\\left[' + data[c][d]['Units'] + '\\\\right]$'\n",
    "        else:\n",
    "            text = '$' + d + '= ' + str(data[c][d]['Valor']) + '' + data[c][d]['Units'] + '$'\n",
    "        display(HTML(text))"
   ]
  },
  {
   "cell_type": "markdown",
   "metadata": {},
   "source": [
    "## __2. Solución Analítica__\n",
    "\n",
    "<div align=\"justify\">\n",
    "    El problema\n",
    "</div>"
   ]
  },
  {
   "cell_type": "markdown",
   "metadata": {},
   "source": [
    "## __3. Solución Numérica__\n",
    "\n",
    "<div align=\"justify\">\n",
    "    La geomtería dada es la siguiente:\n",
    "</div>"
   ]
  },
  {
   "cell_type": "code",
   "execution_count": 2,
   "metadata": {},
   "outputs": [
    {
     "data": {
      "image/png": "[encoded data removed]",
      "text/plain": [
       "<Figure size 432x443.444 with 1 Axes>"
      ]
     },
     "metadata": {
      "needs_background": "light"
     },
     "output_type": "display_data"
    },
    {
     "data": {
      "text/plain": [
       "<App.Preprocessing.Geometry.Geo at 0xb4b51d0>"
      ]
     },
     "execution_count": 2,
     "metadata": {},
     "output_type": "execute_result"
    }
   ],
   "source": [
    "%matplotlib inline\n",
    "from App.Preprocessing.Geometry import *\n",
    "Geo(data['Geometría'], True)"
   ]
  },
  {
   "cell_type": "markdown",
   "metadata": {},
   "source": [
    "<div align=\"justify\">\n",
    "    Se inicia realizando la discretización del dominio.\n",
    "</div>"
   ]
  },
  {
   "cell_type": "code",
   "execution_count": 3,
   "metadata": {},
   "outputs": [
    {
     "data": {
      "application/vnd.jupyter.widget-view+json": {
       "model_id": "c6911e632583460eb135aeed1e250884",
       "version_major": 2,
       "version_minor": 0
      },
      "text/plain": [
       "interactive(children=(IntSlider(value=9, description='xsub', max=15, min=3), IntSlider(value=9, description='y…"
      ]
     },
     "metadata": {},
     "output_type": "display_data"
    }
   ],
   "source": [
    "%matplotlib inline\n",
    "from App.Preprocessing.Mesh import Malla\n",
    "from ipywidgets import *\n",
    "def Mesh(xsub,ysub, ref,Eltype='Cuad4', numEl = False,\n",
    "         numN = False):\n",
    "    Malla((data['Geometría']['a']['Valor']/xsub,\n",
    "           data['Geometría']['a']['Valor']/ysub),\n",
    "           ref,\n",
    "           (numN, numEl),\n",
    "           data['Geometría'], Eltype)\n",
    "ElData = interactive(Mesh,\n",
    "                     xsub=(3,15,1),\n",
    "                     ysub=(3,15,1),\n",
    "                     ref=(0,5,1),\n",
    "                     Eltype=['Cuad4', 'Cuad8', 'Tri3', 'Tri6'],\n",
    "                     numEl = False, numN = False)\n",
    "display(ElData)"
   ]
  },
  {
   "cell_type": "code",
   "execution_count": null,
   "metadata": {},
   "outputs": [],
   "source": [
    "import ipywidgets as widgets\n",
    "accordion = widgets.Accordion(children=[widgets.IntSlider(), widgets.Text()])\n",
    "accordion.set_title(0, 'Subdivisiones en x')\n",
    "accordion.set_title(1, 'Subdivisiones en y')\n",
    "tab_nest = widgets.Tab()\n",
    "tab_nest.children = [accordion, accordion]\n",
    "tab_nest.set_title(0, 'Subdivisiones')\n",
    "tab_nest.set_title(1, 'Tipo de Elemento')\n",
    "tab_nest"
   ]
  }
 ],
 "metadata": {
  "kernelspec": {
   "display_name": "Python 3",
   "language": "python",
   "name": "python3"
  },
  "language_info": {
   "codemirror_mode": {
    "name": "ipython",
    "version": 3
   },
   "file_extension": ".py",
   "mimetype": "text/x-python",
   "name": "python",
   "nbconvert_exporter": "python",
   "pygments_lexer": "ipython3",
   "version": "3.7.4"
  }
 },
 "nbformat": 4,
 "nbformat_minor": 4
}
