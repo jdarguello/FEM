{
 "cells": [
  {
   "cell_type": "markdown",
   "metadata": {},
   "source": [
    "<div align=\"center\">\n",
    "    <h1><strong>Análisis Modal 2D</strong></h1>\n",
    "    <h2>Juan David Argüello Plata</h2>\n",
    "    <img src=\"Images/uis.png\" style=\"width: 300px;\" />\n",
    "</div>\n",
    "\n",
    "## __1. Planteamiento del Problema__\n",
    "\n",
    "<div align=\"justify\">\n",
    "    Se busca analizar, mediante métodos <i>analíticos</i> y <i>numéricos</i>, el comportamiento modal de la barra mostrada en la Figura 1.\n",
    "</div>\n",
    "\n",
    "<br>\n",
    "\n",
    "<div align=\"center\">\n",
    "    <img src=\"Images/Esquema/Esquema.png\" style=\"width: 500px;\" />\n",
    "</div>\n",
    "\n",
    "<div align=\"center\">\n",
    "    <i>Figura 1.</i> Geometría del problema.\n",
    "</div>\n",
    "\n",
    "## __2. Solución Analítica__\n",
    "\n",
    "<div align=\"justify\">\n",
    "    El problema\n",
    "</div>\n"
   ]
  },
  {
   "cell_type": "markdown",
   "metadata": {},
   "source": [
    "## __3. Solución Numérica__\n",
    "\n",
    "<div align=\"justify\">\n",
    "    La solución numérica se desarrolla.\n",
    "</div>"
   ]
  }
 ],
 "metadata": {
  "kernelspec": {
   "display_name": "Python 3",
   "language": "python",
   "name": "python3"
  },
  "language_info": {
   "codemirror_mode": {
    "name": "ipython",
    "version": 3
   },
   "file_extension": ".py",
   "mimetype": "text/x-python",
   "name": "python",
   "nbconvert_exporter": "python",
   "pygments_lexer": "ipython3",
   "version": "3.5.2"
  }
 },
 "nbformat": 4,
 "nbformat_minor": 4
}
