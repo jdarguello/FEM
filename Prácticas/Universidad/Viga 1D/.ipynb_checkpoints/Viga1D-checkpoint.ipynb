{
 "cells": [
  {
   "cell_type": "markdown",
   "metadata": {},
   "source": [
    "<center><h1><strong>Análisis 1D de una viga</strong></h1></center>\n",
    "\n",
    "<div align=\"justify\">\n",
    "    En el presente trabajo, se desarrolla un análisis numérico a una viga simplemente apoyada sometida a momentos flectores en los extremos, como se muestra en la Figura 1.\n",
    "</div>\n",
    "\n",
    "<img src=\"Images/Esquema/Viga.PNG\" style=\"width: 400px;\" />\n",
    "<center><i>Figura 1.</i> Esquema general.</center>\n",
    "\n",
    "## __Desarrollo Teórico__\n",
    "\n",
    "<div align=\"justify\">\n",
    "    El objetivo del desarrollo teórico es el planteamiento de la ecuación diferencial del problema físico.\n",
    "</div>\n",
    "\n",
    "### Balance de \n",
    "\n",
    "\n",
    "### Solución Computacional\n",
    "\n",
    "<div align=\"justify\">\n",
    "    Para el desarrollo teórico, se utiliza la librería <i>Sympy</i> de Python, que sirve para resolver ecuaciones simbólicas matemáticas; similar a <i>Maxima</i>, Mapple y Mathematica, por mencionar algunos software <i>CAS</i> (Computer Algebra System).\n",
    "</div>"
   ]
  },
  {
   "cell_type": "code",
   "execution_count": 1,
   "metadata": {},
   "outputs": [
    {
     "name": "stdout",
     "output_type": "stream",
     "text": [
      "IPython console for SymPy 1.4 (Python 3.7.4-32-bit) (ground types: python)\n",
      "\n",
      "These commands were executed:\n",
      ">>> from __future__ import division\n",
      ">>> from sympy import *\n",
      ">>> x, y, z, t = symbols('x y z t')\n",
      ">>> k, m, n = symbols('k m n', integer=True)\n",
      ">>> f, g, h = symbols('f g h', cls=Function)\n",
      ">>> init_printing()\n",
      "\n",
      "Documentation can be found at https://docs.sympy.org/1.4/\n",
      "\n"
     ]
    }
   ],
   "source": [
    "from sympy import init_session\n",
    "init_session(use_latex=True)"
   ]
  },
  {
   "cell_type": "markdown",
   "metadata": {},
   "source": [
    "<div align=\"justify\">\n",
    "    La ecuación diferencial es la siguiente:\n",
    "    $$\n",
    "    \\begin{equation}\n",
    "        EI \\frac{d ^2 y}{d x ^2} - M(x) = 0\n",
    "        \\tag{1}\n",
    "        \\label{dif}\n",
    "    \\end{equation}\n",
    "    $$\n",
    "</div>"
   ]
  },
  {
   "cell_type": "code",
   "execution_count": 6,
   "metadata": {},
   "outputs": [],
   "source": [
    "#Declaración de variables y funciones\n",
    "y = Function('y')\n",
    "E, I, M_0, H = symbols('E I M_0 H')\n",
    "\n",
    "#Creación de ecuación\n"
   ]
  },
  {
   "cell_type": "markdown",
   "metadata": {},
   "source": [
    "<div align=\"justify\">\n",
    "    La solución exacta se puede apreciar en la Ecuación \\ref{exacta}.\n",
    "    $$\n",
    "    \\begin{equation}\n",
    "        y(x) = \\frac{M_0}{2EI} (x-H)\n",
    "        \\tag{2}\n",
    "        \\label{exacta}\n",
    "    \\end{equation}\n",
    "    $$\n",
    "</div>"
   ]
  },
  {
   "cell_type": "markdown",
   "metadata": {},
   "source": [
    "## __Solución Numérica__\n",
    "\n",
    "<img src=\"Images/Esquema_3D/IP.png\" style=\"width: 400px;\" />\n",
    "<center><i>Figura 2.</i> Discretización de una viga.</center>\n",
    "\n",
    "<div align=\"justify\">\n",
    "    Para el desarrollo de la solución numérica, se emplean residuos ponderados (Ecuación \\ref{pond}) y colocación (Ecuación \\ref{col}).\n",
    "    $$\n",
    "    \\begin{equation}\n",
    "        \\int _0 ^H R(x) \\Psi (x) d x = 0\n",
    "        \\tag{3}\n",
    "        \\label{pond}\n",
    "    \\end{equation}\n",
    "    $$\n",
    "    $$\n",
    "    \\begin{equation}\n",
    "        \\Psi (x) = \\delta \\left(x - x_i \\right)\n",
    "        \\tag{4}\n",
    "        \\label{col}\n",
    "    \\end{equation}\n",
    "    $$\n",
    "</div>"
   ]
  }
 ],
 "metadata": {
  "kernelspec": {
   "display_name": "Python 3",
   "language": "python",
   "name": "python3"
  },
  "language_info": {
   "codemirror_mode": {
    "name": "ipython",
    "version": 3
   },
   "file_extension": ".py",
   "mimetype": "text/x-python",
   "name": "python",
   "nbconvert_exporter": "python",
   "pygments_lexer": "ipython3",
   "version": "3.7.4"
  }
 },
 "nbformat": 4,
 "nbformat_minor": 4
}
