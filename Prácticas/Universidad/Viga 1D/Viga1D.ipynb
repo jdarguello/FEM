{
 "cells": [
  {
   "cell_type": "markdown",
   "metadata": {},
   "source": [
    "<center><h1><strong>Análisis 1D de una viga</strong></h1></center>\n",
    "\n",
    "<div align=\"justify\">\n",
    "    Una viga simplemente apoyada sometida a momentos flectores en los extremos.\n",
    "</div>\n",
    "\n",
    "## __Desarrollo Teórico__\n",
    "\n",
    "<div align=\"justify\">\n",
    "    La ecuación diferencial es la siguiente:\n",
    "    $$\n",
    "    \\begin{equation}\n",
    "        EI \\frac{\\partial ^2 y}{\\partial x ^2} - M(x) = 0\n",
    "        \\tag{1}\n",
    "        \\label{dif}\n",
    "    \\end{equation}\n",
    "    $$\n",
    "</div>\n",
    "\n",
    "<div align=\"justify\">\n",
    "    La solución exacta se puede apreciar en la Ecuación \\ref{exacta}.\n",
    "    $$\n",
    "    \\begin{equation}\n",
    "        y(x) = \\frac{M_0}{2EI} (x-H)\n",
    "        \\tag{2}\n",
    "        \\label{exacta}\n",
    "    \\end{equation}\n",
    "    $$\n",
    "</div>\n",
    "\n",
    "## __Solución Numérica__\n",
    "\n",
    "<div align=\"justify\">\n",
    "    Para el desarrollo de la solución numérica, se emplean residuos ponderados (Ecuación \\ref{pond}) y colocación (Ecuación \\ref{col}).\n",
    "    $$\n",
    "    \\begin{equation}\n",
    "        \\int _0 ^H R(x) \\Psi (x) \\partial x = 0\n",
    "        \\tag{3}\n",
    "        \\label{pond}\n",
    "    \\end{equation}\n",
    "    $$\n",
    "    $$\n",
    "    \\begin{equation}\n",
    "        \\Psi (x) = \\delta \\left(x - x_i \\right)\n",
    "        \\tag{4}\n",
    "        \\label{col}\n",
    "    \\end{equation}\n",
    "    $$\n",
    "</div>"
   ]
  }
 ],
 "metadata": {
  "kernelspec": {
   "display_name": "Python 3",
   "language": "python",
   "name": "python3"
  },
  "language_info": {
   "codemirror_mode": {
    "name": "ipython",
    "version": 3
   },
   "file_extension": ".py",
   "mimetype": "text/x-python",
   "name": "python",
   "nbconvert_exporter": "python",
   "pygments_lexer": "ipython3",
   "version": "3.7.4"
  }
 },
 "nbformat": 4,
 "nbformat_minor": 4
}
