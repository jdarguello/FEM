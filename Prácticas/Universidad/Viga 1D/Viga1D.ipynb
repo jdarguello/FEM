{
 "cells": [
  {
   "cell_type": "markdown",
   "metadata": {},
   "source": [
    "<center><h1><strong>Análisis 1D de una viga</strong></h1></center>\n",
    "\n",
    "<div align=\"justify\">\n",
    "    En el presente trabajo, se desarrolla un análisis numérico a una viga simplemente apoyada sometida a momentos flectores en los extremos, como se muestra en la Figura 1.\n",
    "</div>\n",
    "\n",
    "<img src=\"Images/Esquema/Viga.PNG\" style=\"width: 400px;\" />\n",
    "<center><i>Figura 1.</i> Esquema general.</center>\n",
    "\n",
    "## __Desarrollo Teórico__\n",
    "\n",
    "<div align=\"justify\">\n",
    "    El objetivo del desarrollo teórico es el planteamiento de la ecuación diferencial del problema físico.\n",
    "</div>\n",
    "\n",
    "### Balance de fuerzas\n",
    "\n",
    "<div align=\"justify\">\n",
    "    Realizando un corte sobre la mitad de la viga (Figura 1), \n",
    "</div>\n",
    "\n",
    "\n",
    "### Solución Computacional\n",
    "\n",
    "<div align=\"justify\">\n",
    "    Para el desarrollo teórico, se utiliza la librería <i>Sympy</i> de Python, que sirve para resolver ecuaciones simbólicas matemáticas; similar a <i>Maxima</i>, Mapple y Mathematica, por mencionar algunos software <i>CAS</i> (Computer Algebra System).\n",
    "</div>"
   ]
  },
  {
   "cell_type": "code",
   "execution_count": 2,
   "metadata": {},
   "outputs": [
    {
     "name": "stdout",
     "output_type": "stream",
     "text": [
      "IPython console for SymPy 1.4 (Python 3.7.4-32-bit) (ground types: python)\n",
      "\n",
      "These commands were executed:\n",
      ">>> from __future__ import division\n",
      ">>> from sympy import *\n",
      ">>> x, y, z, t = symbols('x y z t')\n",
      ">>> k, m, n = symbols('k m n', integer=True)\n",
      ">>> f, g, h = symbols('f g h', cls=Function)\n",
      ">>> init_printing()\n",
      "\n",
      "Documentation can be found at https://docs.sympy.org/1.4/\n",
      "\n"
     ]
    }
   ],
   "source": [
    "from sympy import init_session\n",
    "from sympy.physics.continuum_mechanics.beam import Beam\n",
    "init_session(use_latex=True)"
   ]
  },
  {
   "cell_type": "code",
   "execution_count": 5,
   "metadata": {},
   "outputs": [],
   "source": [
    "M = Function('M')\n",
    "M_0, H, E, I= symbols('M_0 H E I')\n"
   ]
  },
  {
   "cell_type": "markdown",
   "metadata": {},
   "source": [
    "<div align=\"justify\">\n",
    "    La ecuación diferencial es la siguiente:\n",
    "    $$\n",
    "    \\begin{equation}\n",
    "        EI \\frac{d ^2 y}{d x ^2} - M(x) = 0\n",
    "        \\tag{1}\n",
    "        \\label{dif}\n",
    "    \\end{equation}\n",
    "    $$\n",
    "</div>"
   ]
  },
  {
   "cell_type": "code",
   "execution_count": 6,
   "metadata": {},
   "outputs": [
    {
     "data": {
      "image/png": "[encoded data removed]",
      "text/latex": [
       "$\\displaystyle E I \\frac{d^{2}}{d x^{2}} y{\\left(x \\right)} - M_{0} = 0$"
      ],
      "text/plain": [
       "      2               \n",
       "     d                \n",
       "E⋅I⋅───(y(x)) - M₀ = 0\n",
       "      2               \n",
       "    dx                "
      ]
     },
     "execution_count": 6,
     "metadata": {},
     "output_type": "execute_result"
    }
   ],
   "source": [
    "y = Function('y')\n",
    "\n",
    "#Creación de ecuación\n",
    "Ec = Eq(E*I*y(x).diff(x,2) - M_0*(x-H)**S(0),0)\n",
    "Ec"
   ]
  },
  {
   "cell_type": "code",
   "execution_count": 81,
   "metadata": {},
   "outputs": [
    {
     "ename": "TypeError",
     "evalue": "'Add' object is not callable",
     "output_type": "error",
     "traceback": [
      "\u001b[1;31m---------------------------------------------------------------------------\u001b[0m",
      "\u001b[1;31mTypeError\u001b[0m                                 Traceback (most recent call last)",
      "\u001b[1;32m<ipython-input-81-18cbead8e49c>\u001b[0m in \u001b[0;36m<module>\u001b[1;34m\u001b[0m\n\u001b[0;32m      4\u001b[0m                 y(x).diff(x,2).subs(x,H):M_0})\n\u001b[0;32m      5\u001b[0m \u001b[0msolucion\u001b[0m \u001b[1;33m=\u001b[0m \u001b[0msol\u001b[0m\u001b[1;33m.\u001b[0m\u001b[0mrhs\u001b[0m\u001b[1;33m\u001b[0m\u001b[1;33m\u001b[0m\u001b[0m\n\u001b[1;32m----> 6\u001b[1;33m \u001b[0mconstantes\u001b[0m \u001b[1;33m=\u001b[0m \u001b[0msolucion\u001b[0m\u001b[1;33m(\u001b[0m\u001b[1;33m[\u001b[0m\u001b[0msolucion\u001b[0m\u001b[1;33m.\u001b[0m\u001b[0msubs\u001b[0m\u001b[1;33m(\u001b[0m\u001b[0mx\u001b[0m\u001b[1;33m,\u001b[0m\u001b[1;36m0\u001b[0m\u001b[1;33m)\u001b[0m\u001b[1;33m-\u001b[0m\u001b[1;36m1\u001b[0m\u001b[1;33m]\u001b[0m\u001b[1;33m,\u001b[0m \u001b[0mdict\u001b[0m\u001b[1;33m=\u001b[0m\u001b[1;32mTrue\u001b[0m\u001b[1;33m)\u001b[0m\u001b[1;33m\u001b[0m\u001b[1;33m\u001b[0m\u001b[0m\n\u001b[0m\u001b[0;32m      7\u001b[0m \u001b[0msol\u001b[0m\u001b[1;33m.\u001b[0m\u001b[0msubs\u001b[0m\u001b[1;33m(\u001b[0m\u001b[0mconstantes\u001b[0m\u001b[1;33m[\u001b[0m\u001b[1;36m0\u001b[0m\u001b[1;33m]\u001b[0m\u001b[1;33m)\u001b[0m\u001b[1;33m\u001b[0m\u001b[1;33m\u001b[0m\u001b[0m\n",
      "\u001b[1;31mTypeError\u001b[0m: 'Add' object is not callable"
     ]
    }
   ],
   "source": [
    "sol = dsolve(Ec,ics={y(x).diff(x,3).subs(x,0):0,\n",
    "                y(x).diff(x,3).subs(x,H):0,\n",
    "                y(x).diff(x,2).subs(x,0):M_0,\n",
    "                y(x).diff(x,2).subs(x,H):M_0})\n",
    "solucion = sol.rhs\n",
    "constantes = solucion([solucion.subs(x,0)-1], dict=True)\n",
    "sol.subs(constantes[0])"
   ]
  },
  {
   "cell_type": "markdown",
   "metadata": {},
   "source": [
    "<div align=\"justify\">\n",
    "    La solución exacta se puede apreciar en la Ecuación \\ref{exacta}.\n",
    "    $$\n",
    "    \\begin{equation}\n",
    "        y(x) = \\frac{M_0}{2EI} (x-H)\n",
    "        \\tag{2}\n",
    "        \\label{exacta}\n",
    "    \\end{equation}\n",
    "    $$\n",
    "</div>"
   ]
  },
  {
   "cell_type": "markdown",
   "metadata": {},
   "source": [
    "## __Solución Numérica__\n",
    "\n",
    "<img src=\"Images/Esquema_3D/IP.png\" style=\"width: 400px;\" />\n",
    "<center><i>Figura 2.</i> Discretización de una viga.</center>\n",
    "\n",
    "<div align=\"justify\">\n",
    "    Para el desarrollo de la solución numérica, se emplean residuos ponderados (Ecuación \\ref{pond}) y colocación (Ecuación \\ref{col}).\n",
    "    $$\n",
    "    \\begin{equation}\n",
    "        \\int _0 ^H R(x) \\Psi (x) d x = 0\n",
    "        \\tag{3}\n",
    "        \\label{pond}\n",
    "    \\end{equation}\n",
    "    $$\n",
    "    $$\n",
    "    \\begin{equation}\n",
    "        \\Psi (x) = \\delta \\left(x - x_i \\right)\n",
    "        \\tag{4}\n",
    "        \\label{col}\n",
    "    \\end{equation}\n",
    "    $$\n",
    "</div>"
   ]
  }
 ],
 "metadata": {
  "kernelspec": {
   "display_name": "Python 3",
   "language": "python",
   "name": "python3"
  },
  "language_info": {
   "codemirror_mode": {
    "name": "ipython",
    "version": 3
   },
   "file_extension": ".py",
   "mimetype": "text/x-python",
   "name": "python",
   "nbconvert_exporter": "python",
   "pygments_lexer": "ipython3",
   "version": "3.7.4"
  }
 },
 "nbformat": 4,
 "nbformat_minor": 4
}
